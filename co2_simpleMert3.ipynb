{
 "cells": [
  {
   "cell_type": "markdown",
   "id": "c81510d0-c6c6-4e99-a27b-1a09583caba3",
   "metadata": {},
   "source": [
    "# Libraries and Data Information"
   ]
  },
  {
   "cell_type": "code",
   "execution_count": 1,
   "id": "e528393a-927f-42f3-8ed9-0d8b8d16c02d",
   "metadata": {},
   "outputs": [],
   "source": [
    "import numpy as np \n",
    "import pandas as pd \n",
    "import matplotlib.pyplot as plt\n",
    "import seaborn as sns\n",
    "from scipy import stats\n",
    "from sklearn.preprocessing import PolynomialFeatures\n",
    "\n",
    "import warnings\n",
    "warnings.filterwarnings(\"ignore\")"
   ]
  },
  {
   "cell_type": "markdown",
   "id": "a4b05cf7-e387-48c5-b1b2-b9e704f16fa2",
   "metadata": {},
   "source": [
    "### The data set includes information about:\n",
    "\n",
    "- This dataset captures the details of how CO2 emissions by a vehicle can vary with the different features. \n",
    "\n",
    "- The dataset has been taken from Canada Government official open data website. This is a compiled version.\n",
    "\n",
    "- This contains data over a period of 7 years. There are total 7385 rows and 12 columns. "
   ]
  },
  {
   "cell_type": "markdown",
   "id": "494b67f6-e36d-44c7-977b-b1cc8137da86",
   "metadata": {},
   "source": [
    "### Feature Information\n",
    "\n",
    "**Make:** Vehicle brand\n",
    "\n",
    "**Model:** Vehicle model\n",
    "- 4WD/4X4 = Four-wheel drive\n",
    "\n",
    "- AWD = All-wheel drive\n",
    "\n",
    "- FFV = Flexible-fuel vehicle\n",
    "\n",
    "- SWB = Short wheelbase\n",
    "\n",
    "- LWB = Long wheelbase\n",
    "\n",
    "- EWB = Extended wheelbase\n",
    "\n",
    "\n",
    "**Vehicle Class:** Vehicle class (e.g. small car, sports car, van, etc.)\n",
    "\n",
    "**Engine Size (L):** Vehicle engine displacement (in liters)\n",
    "\n",
    "**Cylinders:** Number of vehicle cylinders\n",
    "\n",
    "**Transmission:** Vehicle gearbox type (manual or automatic)\n",
    "- A = Automatic\n",
    "\n",
    "- AM = Automated manual\n",
    "\n",
    "- AS = Automatic with select shift\n",
    "\n",
    "- AV = Continuously variable\n",
    "\n",
    "- M = Manual\n",
    "\n",
    "- 3 - 10 = Number of gears\n",
    "\n",
    "**Fuel Type:** Type of fuel used (e.g. gasoline, diesel, hybrid, etc.)\n",
    "- X = Regular gasoline\n",
    "\n",
    "- Z = Premium gasoline\n",
    "\n",
    "- D = Diesel\n",
    "\n",
    "- E = Ethanol (E85)\n",
    "\n",
    "- N = Natural gas\n",
    "\n",
    "**Fuel Consumption City (L/100 km):** Fuel consumption city (liters/100 km)\n",
    "\n",
    "**Fuel Consumption Hwy (L/100 km):** Hwy fuel consumption (liters/100 km)\n",
    "\n",
    "**Fuel Consumption Comb (L/100 km):** Average fuel consumption (liters/100 km)\n",
    "\n",
    "**Fuel Consumption Comb (mpg):** Fuel economy (miles per gallon)\n",
    "- City and highway fuel consumption ratings are shown in litres per 100 kilometres (L/100 km) - the combined rating (55% city, 45% hwy) is shown in L/100 km and in miles per gallon (mpg)\n",
    "\n",
    "**CO2 Emissions (g/km):** CO2 emissions per vehicle (grams/kilometer)"
   ]
  },
  {
   "cell_type": "markdown",
   "id": "2b4c5bb5-9558-4576-b7ec-a6fe1e4cd716",
   "metadata": {},
   "source": [
    "# Read and Check Data"
   ]
  },
  {
   "cell_type": "code",
   "execution_count": 2,
   "id": "075f6b92-cb29-4bfd-9902-c4b5415614d2",
   "metadata": {},
   "outputs": [
    {
     "data": {
      "text/html": [
       "<div>\n",
       "<style scoped>\n",
       "    .dataframe tbody tr th:only-of-type {\n",
       "        vertical-align: middle;\n",
       "    }\n",
       "\n",
       "    .dataframe tbody tr th {\n",
       "        vertical-align: top;\n",
       "    }\n",
       "\n",
       "    .dataframe thead th {\n",
       "        text-align: right;\n",
       "    }\n",
       "</style>\n",
       "<table border=\"1\" class=\"dataframe\">\n",
       "  <thead>\n",
       "    <tr style=\"text-align: right;\">\n",
       "      <th></th>\n",
       "      <th>Make</th>\n",
       "      <th>Model</th>\n",
       "      <th>Vehicle Class</th>\n",
       "      <th>Engine Size(L)</th>\n",
       "      <th>Cylinders</th>\n",
       "      <th>Transmission</th>\n",
       "      <th>Fuel Type</th>\n",
       "      <th>Fuel Consumption City (L/100 km)</th>\n",
       "      <th>Fuel Consumption Hwy (L/100 km)</th>\n",
       "      <th>Fuel Consumption Comb (L/100 km)</th>\n",
       "      <th>Fuel Consumption Comb (mpg)</th>\n",
       "      <th>CO2 Emissions(g/km)</th>\n",
       "    </tr>\n",
       "  </thead>\n",
       "  <tbody>\n",
       "    <tr>\n",
       "      <th>0</th>\n",
       "      <td>ACURA</td>\n",
       "      <td>ILX</td>\n",
       "      <td>COMPACT</td>\n",
       "      <td>2.0</td>\n",
       "      <td>4</td>\n",
       "      <td>AS5</td>\n",
       "      <td>Z</td>\n",
       "      <td>9.9</td>\n",
       "      <td>6.7</td>\n",
       "      <td>8.5</td>\n",
       "      <td>33</td>\n",
       "      <td>196</td>\n",
       "    </tr>\n",
       "    <tr>\n",
       "      <th>1</th>\n",
       "      <td>ACURA</td>\n",
       "      <td>ILX</td>\n",
       "      <td>COMPACT</td>\n",
       "      <td>2.4</td>\n",
       "      <td>4</td>\n",
       "      <td>M6</td>\n",
       "      <td>Z</td>\n",
       "      <td>11.2</td>\n",
       "      <td>7.7</td>\n",
       "      <td>9.6</td>\n",
       "      <td>29</td>\n",
       "      <td>221</td>\n",
       "    </tr>\n",
       "    <tr>\n",
       "      <th>2</th>\n",
       "      <td>ACURA</td>\n",
       "      <td>ILX HYBRID</td>\n",
       "      <td>COMPACT</td>\n",
       "      <td>1.5</td>\n",
       "      <td>4</td>\n",
       "      <td>AV7</td>\n",
       "      <td>Z</td>\n",
       "      <td>6.0</td>\n",
       "      <td>5.8</td>\n",
       "      <td>5.9</td>\n",
       "      <td>48</td>\n",
       "      <td>136</td>\n",
       "    </tr>\n",
       "    <tr>\n",
       "      <th>3</th>\n",
       "      <td>ACURA</td>\n",
       "      <td>MDX 4WD</td>\n",
       "      <td>SUV - SMALL</td>\n",
       "      <td>3.5</td>\n",
       "      <td>6</td>\n",
       "      <td>AS6</td>\n",
       "      <td>Z</td>\n",
       "      <td>12.7</td>\n",
       "      <td>9.1</td>\n",
       "      <td>11.1</td>\n",
       "      <td>25</td>\n",
       "      <td>255</td>\n",
       "    </tr>\n",
       "    <tr>\n",
       "      <th>4</th>\n",
       "      <td>ACURA</td>\n",
       "      <td>RDX AWD</td>\n",
       "      <td>SUV - SMALL</td>\n",
       "      <td>3.5</td>\n",
       "      <td>6</td>\n",
       "      <td>AS6</td>\n",
       "      <td>Z</td>\n",
       "      <td>12.1</td>\n",
       "      <td>8.7</td>\n",
       "      <td>10.6</td>\n",
       "      <td>27</td>\n",
       "      <td>244</td>\n",
       "    </tr>\n",
       "  </tbody>\n",
       "</table>\n",
       "</div>"
      ],
      "text/plain": [
       "    Make       Model Vehicle Class  Engine Size(L)  Cylinders Transmission  \\\n",
       "0  ACURA         ILX       COMPACT             2.0          4          AS5   \n",
       "1  ACURA         ILX       COMPACT             2.4          4           M6   \n",
       "2  ACURA  ILX HYBRID       COMPACT             1.5          4          AV7   \n",
       "3  ACURA     MDX 4WD   SUV - SMALL             3.5          6          AS6   \n",
       "4  ACURA     RDX AWD   SUV - SMALL             3.5          6          AS6   \n",
       "\n",
       "  Fuel Type  Fuel Consumption City (L/100 km)  \\\n",
       "0         Z                               9.9   \n",
       "1         Z                              11.2   \n",
       "2         Z                               6.0   \n",
       "3         Z                              12.7   \n",
       "4         Z                              12.1   \n",
       "\n",
       "   Fuel Consumption Hwy (L/100 km)  Fuel Consumption Comb (L/100 km)  \\\n",
       "0                              6.7                               8.5   \n",
       "1                              7.7                               9.6   \n",
       "2                              5.8                               5.9   \n",
       "3                              9.1                              11.1   \n",
       "4                              8.7                              10.6   \n",
       "\n",
       "   Fuel Consumption Comb (mpg)  CO2 Emissions(g/km)  \n",
       "0                           33                  196  \n",
       "1                           29                  221  \n",
       "2                           48                  136  \n",
       "3                           25                  255  \n",
       "4                           27                  244  "
      ]
     },
     "execution_count": 2,
     "metadata": {},
     "output_type": "execute_result"
    }
   ],
   "source": [
    "co2 = pd.read_csv(\"co2.csv\")\n",
    "df = co2.copy()\n",
    "df.head()"
   ]
  },
  {
   "cell_type": "code",
   "execution_count": 3,
   "id": "dc48c0cb-e799-4c14-864c-a85a01dcb5fe",
   "metadata": {},
   "outputs": [
    {
     "name": "stdout",
     "output_type": "stream",
     "text": [
      "<class 'pandas.core.frame.DataFrame'>\n",
      "RangeIndex: 7385 entries, 0 to 7384\n",
      "Data columns (total 12 columns):\n",
      " #   Column                            Non-Null Count  Dtype  \n",
      "---  ------                            --------------  -----  \n",
      " 0   Make                              7385 non-null   object \n",
      " 1   Model                             7385 non-null   object \n",
      " 2   Vehicle Class                     7385 non-null   object \n",
      " 3   Engine Size(L)                    7385 non-null   float64\n",
      " 4   Cylinders                         7385 non-null   int64  \n",
      " 5   Transmission                      7385 non-null   object \n",
      " 6   Fuel Type                         7385 non-null   object \n",
      " 7   Fuel Consumption City (L/100 km)  7385 non-null   float64\n",
      " 8   Fuel Consumption Hwy (L/100 km)   7385 non-null   float64\n",
      " 9   Fuel Consumption Comb (L/100 km)  7385 non-null   float64\n",
      " 10  Fuel Consumption Comb (mpg)       7385 non-null   int64  \n",
      " 11  CO2 Emissions(g/km)               7385 non-null   int64  \n",
      "dtypes: float64(4), int64(3), object(5)\n",
      "memory usage: 692.5+ KB\n"
     ]
    }
   ],
   "source": [
    "# information about data frame\n",
    "df.info()"
   ]
  },
  {
   "cell_type": "code",
   "execution_count": 4,
   "id": "4b0391ea-9799-44f0-bece-19fd2ab160b7",
   "metadata": {},
   "outputs": [],
   "source": [
    "# let's edit column names\n",
    "renamed_columns = {\n",
    "    'Make' : \"make\",\n",
    "    'Model' : \"model\",\n",
    "    'Vehicle Class': 'vehicle_class',\n",
    "    'Engine Size(L)': 'engine_size',\n",
    "    'Cylinders': \"cylinders\",\n",
    "    'Transmission' : \"transmission\",\n",
    "    'Fuel Type': 'fuel_type',\n",
    "    'Fuel Consumption City (L/100 km)': 'fuel_cons_city',\n",
    "    'Fuel Consumption Hwy (L/100 km)': 'fuel_cons_hwy',\n",
    "    'Fuel Consumption Comb (L/100 km)': 'fuel_cons_comb',\n",
    "    'Fuel Consumption Comb (mpg)': 'mpgfuel_cons_comb',\n",
    "    'CO2 Emissions(g/km)': 'co2'\n",
    "}\n",
    "df.rename(renamed_columns, axis='columns', inplace=True)"
   ]
  },
  {
   "cell_type": "code",
   "execution_count": 5,
   "id": "7eca8d61-b914-4626-aa53-718df5496f23",
   "metadata": {},
   "outputs": [
    {
     "data": {
      "text/plain": [
       "make                 0\n",
       "model                0\n",
       "vehicle_class        0\n",
       "engine_size          0\n",
       "cylinders            0\n",
       "transmission         0\n",
       "fuel_type            0\n",
       "fuel_cons_city       0\n",
       "fuel_cons_hwy        0\n",
       "fuel_cons_comb       0\n",
       "mpgfuel_cons_comb    0\n",
       "co2                  0\n",
       "dtype: int64"
      ]
     },
     "execution_count": 5,
     "metadata": {},
     "output_type": "execute_result"
    }
   ],
   "source": [
    "# let's check our missing values\n",
    "df.isnull().sum()"
   ]
  },
  {
   "cell_type": "code",
   "execution_count": 6,
   "id": "ba14c1f7-9395-47fa-add0-08330f146a20",
   "metadata": {},
   "outputs": [
    {
     "data": {
      "text/html": [
       "<div>\n",
       "<style scoped>\n",
       "    .dataframe tbody tr th:only-of-type {\n",
       "        vertical-align: middle;\n",
       "    }\n",
       "\n",
       "    .dataframe tbody tr th {\n",
       "        vertical-align: top;\n",
       "    }\n",
       "\n",
       "    .dataframe thead th {\n",
       "        text-align: right;\n",
       "    }\n",
       "</style>\n",
       "<table border=\"1\" class=\"dataframe\">\n",
       "  <thead>\n",
       "    <tr style=\"text-align: right;\">\n",
       "      <th></th>\n",
       "      <th>count</th>\n",
       "      <th>mean</th>\n",
       "      <th>std</th>\n",
       "      <th>min</th>\n",
       "      <th>25%</th>\n",
       "      <th>50%</th>\n",
       "      <th>75%</th>\n",
       "      <th>max</th>\n",
       "    </tr>\n",
       "  </thead>\n",
       "  <tbody>\n",
       "    <tr>\n",
       "      <th>engine_size</th>\n",
       "      <td>7385.0</td>\n",
       "      <td>3.160068</td>\n",
       "      <td>1.354170</td>\n",
       "      <td>0.9</td>\n",
       "      <td>2.0</td>\n",
       "      <td>3.0</td>\n",
       "      <td>3.7</td>\n",
       "      <td>8.4</td>\n",
       "    </tr>\n",
       "    <tr>\n",
       "      <th>cylinders</th>\n",
       "      <td>7385.0</td>\n",
       "      <td>5.615030</td>\n",
       "      <td>1.828307</td>\n",
       "      <td>3.0</td>\n",
       "      <td>4.0</td>\n",
       "      <td>6.0</td>\n",
       "      <td>6.0</td>\n",
       "      <td>16.0</td>\n",
       "    </tr>\n",
       "    <tr>\n",
       "      <th>fuel_cons_city</th>\n",
       "      <td>7385.0</td>\n",
       "      <td>12.556534</td>\n",
       "      <td>3.500274</td>\n",
       "      <td>4.2</td>\n",
       "      <td>10.1</td>\n",
       "      <td>12.1</td>\n",
       "      <td>14.6</td>\n",
       "      <td>30.6</td>\n",
       "    </tr>\n",
       "    <tr>\n",
       "      <th>fuel_cons_hwy</th>\n",
       "      <td>7385.0</td>\n",
       "      <td>9.041706</td>\n",
       "      <td>2.224456</td>\n",
       "      <td>4.0</td>\n",
       "      <td>7.5</td>\n",
       "      <td>8.7</td>\n",
       "      <td>10.2</td>\n",
       "      <td>20.6</td>\n",
       "    </tr>\n",
       "    <tr>\n",
       "      <th>fuel_cons_comb</th>\n",
       "      <td>7385.0</td>\n",
       "      <td>10.975071</td>\n",
       "      <td>2.892506</td>\n",
       "      <td>4.1</td>\n",
       "      <td>8.9</td>\n",
       "      <td>10.6</td>\n",
       "      <td>12.6</td>\n",
       "      <td>26.1</td>\n",
       "    </tr>\n",
       "    <tr>\n",
       "      <th>mpgfuel_cons_comb</th>\n",
       "      <td>7385.0</td>\n",
       "      <td>27.481652</td>\n",
       "      <td>7.231879</td>\n",
       "      <td>11.0</td>\n",
       "      <td>22.0</td>\n",
       "      <td>27.0</td>\n",
       "      <td>32.0</td>\n",
       "      <td>69.0</td>\n",
       "    </tr>\n",
       "    <tr>\n",
       "      <th>co2</th>\n",
       "      <td>7385.0</td>\n",
       "      <td>250.584699</td>\n",
       "      <td>58.512679</td>\n",
       "      <td>96.0</td>\n",
       "      <td>208.0</td>\n",
       "      <td>246.0</td>\n",
       "      <td>288.0</td>\n",
       "      <td>522.0</td>\n",
       "    </tr>\n",
       "  </tbody>\n",
       "</table>\n",
       "</div>"
      ],
      "text/plain": [
       "                    count        mean        std   min    25%    50%    75%  \\\n",
       "engine_size        7385.0    3.160068   1.354170   0.9    2.0    3.0    3.7   \n",
       "cylinders          7385.0    5.615030   1.828307   3.0    4.0    6.0    6.0   \n",
       "fuel_cons_city     7385.0   12.556534   3.500274   4.2   10.1   12.1   14.6   \n",
       "fuel_cons_hwy      7385.0    9.041706   2.224456   4.0    7.5    8.7   10.2   \n",
       "fuel_cons_comb     7385.0   10.975071   2.892506   4.1    8.9   10.6   12.6   \n",
       "mpgfuel_cons_comb  7385.0   27.481652   7.231879  11.0   22.0   27.0   32.0   \n",
       "co2                7385.0  250.584699  58.512679  96.0  208.0  246.0  288.0   \n",
       "\n",
       "                     max  \n",
       "engine_size          8.4  \n",
       "cylinders           16.0  \n",
       "fuel_cons_city      30.6  \n",
       "fuel_cons_hwy       20.6  \n",
       "fuel_cons_comb      26.1  \n",
       "mpgfuel_cons_comb   69.0  \n",
       "co2                522.0  "
      ]
     },
     "execution_count": 6,
     "metadata": {},
     "output_type": "execute_result"
    }
   ],
   "source": [
    "# describe basic statistics of data\n",
    "df.describe().T"
   ]
  },
  {
   "cell_type": "code",
   "execution_count": 7,
   "id": "14e20fdd-474c-4553-a9d4-f6cfa6dccf6a",
   "metadata": {},
   "outputs": [],
   "source": [
    "# Let's observe our data in a table \n",
    "\n",
    "def get_unique_values(df):\n",
    "    \n",
    "    output_data = []\n",
    "\n",
    "    for col in df.columns:\n",
    "\n",
    "        # If the number of unique values in the column is less than or equal to 5\n",
    "        if df.loc[:, col].nunique() <= 10:\n",
    "            # Get the unique values in the column\n",
    "            unique_values = df.loc[:, col].unique()\n",
    "            # Append the column name, number of unique values, unique values, and data type to the output data\n",
    "            output_data.append([col, df.loc[:, col].nunique(), unique_values, df.loc[:, col].dtype])\n",
    "        else:\n",
    "            # Otherwise, append only the column name, number of unique values, and data type to the output data\n",
    "            output_data.append([col, df.loc[:, col].nunique(),\"-\", df.loc[:, col].dtype])\n",
    "\n",
    "    output_df = pd.DataFrame(output_data, columns=['Column Name', 'Number of Unique Values', ' Unique Values ', 'Data Type'])\n",
    "\n",
    "    return output_df"
   ]
  },
  {
   "cell_type": "code",
   "execution_count": 8,
   "id": "657e7c4c-0250-4a5e-b79d-d2f280c112e5",
   "metadata": {},
   "outputs": [
    {
     "data": {
      "text/html": [
       "<div>\n",
       "<style scoped>\n",
       "    .dataframe tbody tr th:only-of-type {\n",
       "        vertical-align: middle;\n",
       "    }\n",
       "\n",
       "    .dataframe tbody tr th {\n",
       "        vertical-align: top;\n",
       "    }\n",
       "\n",
       "    .dataframe thead th {\n",
       "        text-align: right;\n",
       "    }\n",
       "</style>\n",
       "<table border=\"1\" class=\"dataframe\">\n",
       "  <thead>\n",
       "    <tr style=\"text-align: right;\">\n",
       "      <th></th>\n",
       "      <th>Column Name</th>\n",
       "      <th>Number of Unique Values</th>\n",
       "      <th>Unique Values</th>\n",
       "      <th>Data Type</th>\n",
       "    </tr>\n",
       "  </thead>\n",
       "  <tbody>\n",
       "    <tr>\n",
       "      <th>0</th>\n",
       "      <td>make</td>\n",
       "      <td>42</td>\n",
       "      <td>-</td>\n",
       "      <td>object</td>\n",
       "    </tr>\n",
       "    <tr>\n",
       "      <th>1</th>\n",
       "      <td>model</td>\n",
       "      <td>2053</td>\n",
       "      <td>-</td>\n",
       "      <td>object</td>\n",
       "    </tr>\n",
       "    <tr>\n",
       "      <th>2</th>\n",
       "      <td>vehicle_class</td>\n",
       "      <td>16</td>\n",
       "      <td>-</td>\n",
       "      <td>object</td>\n",
       "    </tr>\n",
       "    <tr>\n",
       "      <th>3</th>\n",
       "      <td>engine_size</td>\n",
       "      <td>51</td>\n",
       "      <td>-</td>\n",
       "      <td>float64</td>\n",
       "    </tr>\n",
       "    <tr>\n",
       "      <th>4</th>\n",
       "      <td>cylinders</td>\n",
       "      <td>8</td>\n",
       "      <td>[4, 6, 12, 8, 10, 3, 5, 16]</td>\n",
       "      <td>int64</td>\n",
       "    </tr>\n",
       "    <tr>\n",
       "      <th>5</th>\n",
       "      <td>transmission</td>\n",
       "      <td>27</td>\n",
       "      <td>-</td>\n",
       "      <td>object</td>\n",
       "    </tr>\n",
       "    <tr>\n",
       "      <th>6</th>\n",
       "      <td>fuel_type</td>\n",
       "      <td>5</td>\n",
       "      <td>[Z, D, X, E, N]</td>\n",
       "      <td>object</td>\n",
       "    </tr>\n",
       "    <tr>\n",
       "      <th>7</th>\n",
       "      <td>fuel_cons_city</td>\n",
       "      <td>211</td>\n",
       "      <td>-</td>\n",
       "      <td>float64</td>\n",
       "    </tr>\n",
       "    <tr>\n",
       "      <th>8</th>\n",
       "      <td>fuel_cons_hwy</td>\n",
       "      <td>143</td>\n",
       "      <td>-</td>\n",
       "      <td>float64</td>\n",
       "    </tr>\n",
       "    <tr>\n",
       "      <th>9</th>\n",
       "      <td>fuel_cons_comb</td>\n",
       "      <td>181</td>\n",
       "      <td>-</td>\n",
       "      <td>float64</td>\n",
       "    </tr>\n",
       "    <tr>\n",
       "      <th>10</th>\n",
       "      <td>mpgfuel_cons_comb</td>\n",
       "      <td>54</td>\n",
       "      <td>-</td>\n",
       "      <td>int64</td>\n",
       "    </tr>\n",
       "    <tr>\n",
       "      <th>11</th>\n",
       "      <td>co2</td>\n",
       "      <td>331</td>\n",
       "      <td>-</td>\n",
       "      <td>int64</td>\n",
       "    </tr>\n",
       "  </tbody>\n",
       "</table>\n",
       "</div>"
      ],
      "text/plain": [
       "          Column Name  Number of Unique Values               Unique Values   \\\n",
       "0                make                       42                            -   \n",
       "1               model                     2053                            -   \n",
       "2       vehicle_class                       16                            -   \n",
       "3         engine_size                       51                            -   \n",
       "4           cylinders                        8  [4, 6, 12, 8, 10, 3, 5, 16]   \n",
       "5        transmission                       27                            -   \n",
       "6           fuel_type                        5              [Z, D, X, E, N]   \n",
       "7      fuel_cons_city                      211                            -   \n",
       "8       fuel_cons_hwy                      143                            -   \n",
       "9      fuel_cons_comb                      181                            -   \n",
       "10  mpgfuel_cons_comb                       54                            -   \n",
       "11                co2                      331                            -   \n",
       "\n",
       "   Data Type  \n",
       "0     object  \n",
       "1     object  \n",
       "2     object  \n",
       "3    float64  \n",
       "4      int64  \n",
       "5     object  \n",
       "6     object  \n",
       "7    float64  \n",
       "8    float64  \n",
       "9    float64  \n",
       "10     int64  \n",
       "11     int64  "
      ]
     },
     "execution_count": 8,
     "metadata": {},
     "output_type": "execute_result"
    }
   ],
   "source": [
    "get_unique_values(df)"
   ]
  },
  {
   "cell_type": "markdown",
   "id": "864bd59c-7725-4fae-8f28-b92196f55e70",
   "metadata": {},
   "source": [
    "- The columns Engine Size(L), Cylinders, Fuel Consumption City (L/100 km), Fuel Consumption Hwy (L/100 km), Fuel Consumption Comb (L/100 km), Fuel Consumption Comb (mpg) and CO2 Emissions(g/km) are numerical and continuous in nature.\n",
    "- The columns Make, Model, Vehicle Class, Transmission and Fuel Type are categorical in nature."
   ]
  },
  {
   "cell_type": "code",
   "execution_count": 9,
   "id": "c1660107-4324-4e83-aa46-31c1409f2c04",
   "metadata": {},
   "outputs": [
    {
     "data": {
      "text/html": [
       "<div>\n",
       "<style scoped>\n",
       "    .dataframe tbody tr th:only-of-type {\n",
       "        vertical-align: middle;\n",
       "    }\n",
       "\n",
       "    .dataframe tbody tr th {\n",
       "        vertical-align: top;\n",
       "    }\n",
       "\n",
       "    .dataframe thead th {\n",
       "        text-align: right;\n",
       "    }\n",
       "</style>\n",
       "<table border=\"1\" class=\"dataframe\">\n",
       "  <thead>\n",
       "    <tr style=\"text-align: right;\">\n",
       "      <th></th>\n",
       "      <th>engine_size</th>\n",
       "      <th>cylinders</th>\n",
       "      <th>fuel_cons_city</th>\n",
       "      <th>fuel_cons_hwy</th>\n",
       "      <th>fuel_cons_comb</th>\n",
       "      <th>mpgfuel_cons_comb</th>\n",
       "      <th>co2</th>\n",
       "    </tr>\n",
       "  </thead>\n",
       "  <tbody>\n",
       "    <tr>\n",
       "      <th>engine_size</th>\n",
       "      <td>1.000000</td>\n",
       "      <td>0.927653</td>\n",
       "      <td>0.831379</td>\n",
       "      <td>0.761526</td>\n",
       "      <td>0.817060</td>\n",
       "      <td>-0.757854</td>\n",
       "      <td>0.851145</td>\n",
       "    </tr>\n",
       "    <tr>\n",
       "      <th>cylinders</th>\n",
       "      <td>0.927653</td>\n",
       "      <td>1.000000</td>\n",
       "      <td>0.800702</td>\n",
       "      <td>0.715252</td>\n",
       "      <td>0.780534</td>\n",
       "      <td>-0.719321</td>\n",
       "      <td>0.832644</td>\n",
       "    </tr>\n",
       "    <tr>\n",
       "      <th>fuel_cons_city</th>\n",
       "      <td>0.831379</td>\n",
       "      <td>0.800702</td>\n",
       "      <td>1.000000</td>\n",
       "      <td>0.948180</td>\n",
       "      <td>0.993810</td>\n",
       "      <td>-0.927059</td>\n",
       "      <td>0.919592</td>\n",
       "    </tr>\n",
       "    <tr>\n",
       "      <th>fuel_cons_hwy</th>\n",
       "      <td>0.761526</td>\n",
       "      <td>0.715252</td>\n",
       "      <td>0.948180</td>\n",
       "      <td>1.000000</td>\n",
       "      <td>0.977299</td>\n",
       "      <td>-0.890638</td>\n",
       "      <td>0.883536</td>\n",
       "    </tr>\n",
       "    <tr>\n",
       "      <th>fuel_cons_comb</th>\n",
       "      <td>0.817060</td>\n",
       "      <td>0.780534</td>\n",
       "      <td>0.993810</td>\n",
       "      <td>0.977299</td>\n",
       "      <td>1.000000</td>\n",
       "      <td>-0.925576</td>\n",
       "      <td>0.918052</td>\n",
       "    </tr>\n",
       "    <tr>\n",
       "      <th>mpgfuel_cons_comb</th>\n",
       "      <td>-0.757854</td>\n",
       "      <td>-0.719321</td>\n",
       "      <td>-0.927059</td>\n",
       "      <td>-0.890638</td>\n",
       "      <td>-0.925576</td>\n",
       "      <td>1.000000</td>\n",
       "      <td>-0.907426</td>\n",
       "    </tr>\n",
       "    <tr>\n",
       "      <th>co2</th>\n",
       "      <td>0.851145</td>\n",
       "      <td>0.832644</td>\n",
       "      <td>0.919592</td>\n",
       "      <td>0.883536</td>\n",
       "      <td>0.918052</td>\n",
       "      <td>-0.907426</td>\n",
       "      <td>1.000000</td>\n",
       "    </tr>\n",
       "  </tbody>\n",
       "</table>\n",
       "</div>"
      ],
      "text/plain": [
       "                   engine_size  cylinders  fuel_cons_city  fuel_cons_hwy  \\\n",
       "engine_size           1.000000   0.927653        0.831379       0.761526   \n",
       "cylinders             0.927653   1.000000        0.800702       0.715252   \n",
       "fuel_cons_city        0.831379   0.800702        1.000000       0.948180   \n",
       "fuel_cons_hwy         0.761526   0.715252        0.948180       1.000000   \n",
       "fuel_cons_comb        0.817060   0.780534        0.993810       0.977299   \n",
       "mpgfuel_cons_comb    -0.757854  -0.719321       -0.927059      -0.890638   \n",
       "co2                   0.851145   0.832644        0.919592       0.883536   \n",
       "\n",
       "                   fuel_cons_comb  mpgfuel_cons_comb       co2  \n",
       "engine_size              0.817060          -0.757854  0.851145  \n",
       "cylinders                0.780534          -0.719321  0.832644  \n",
       "fuel_cons_city           0.993810          -0.927059  0.919592  \n",
       "fuel_cons_hwy            0.977299          -0.890638  0.883536  \n",
       "fuel_cons_comb           1.000000          -0.925576  0.918052  \n",
       "mpgfuel_cons_comb       -0.925576           1.000000 -0.907426  \n",
       "co2                      0.918052          -0.907426  1.000000  "
      ]
     },
     "execution_count": 9,
     "metadata": {},
     "output_type": "execute_result"
    }
   ],
   "source": [
    "df.corr()"
   ]
  },
  {
   "cell_type": "code",
   "execution_count": 10,
   "id": "192e714e-9764-42cd-8963-c43a6615f756",
   "metadata": {},
   "outputs": [
    {
     "data": {
      "image/png": "[encoded data removed]",
      "text/plain": [
       "<Figure size 500x500 with 1 Axes>"
      ]
     },
     "metadata": {},
     "output_type": "display_data"
    }
   ],
   "source": [
    "sns.displot(data = df, x = \"co2\", kde = True, bins = 20)\n",
    "plt.show()"
   ]
  },
  {
   "cell_type": "markdown",
   "id": "448b7e32-bf31-427c-9499-2eb491cb6f48",
   "metadata": {},
   "source": [
    "# Simple Lineer Regression"
   ]
  },
  {
   "cell_type": "markdown",
   "id": "16616826-0054-405a-8494-f8967d64c752",
   "metadata": {},
   "source": [
    "## Train-Test Split"
   ]
  },
  {
   "cell_type": "code",
   "execution_count": 11,
   "id": "a5650ae3-b4b2-4039-adbf-e165fc2b42d7",
   "metadata": {},
   "outputs": [],
   "source": [
    "X = df[[\"engine_size\"]]\n",
    "y = df[\"co2\"]"
   ]
  },
  {
   "cell_type": "code",
   "execution_count": 12,
   "id": "bc2a80c8",
   "metadata": {
    "ExecuteTime": {
     "end_time": "2023-05-06T08:01:32.984695Z",
     "start_time": "2023-05-06T08:01:32.967193Z"
    }
   },
   "outputs": [],
   "source": [
    "from sklearn.model_selection import train_test_split"
   ]
  },
  {
   "cell_type": "code",
   "execution_count": 13,
   "id": "2eb4d345",
   "metadata": {
    "ExecuteTime": {
     "end_time": "2023-05-06T08:01:33.373341Z",
     "start_time": "2023-05-06T08:01:33.366594Z"
    }
   },
   "outputs": [],
   "source": [
    "X_train, X_test, y_train, y_test = train_test_split(X, y, test_size = 0.2, random_state = 0)"
   ]
  },
  {
   "cell_type": "code",
   "execution_count": 14,
   "id": "40de4041-c263-44ff-81ea-5261e3456db6",
   "metadata": {
    "ExecuteTime": {
     "end_time": "2023-05-06T08:01:33.795282Z",
     "start_time": "2023-05-06T08:01:33.791603Z"
    }
   },
   "outputs": [
    {
     "name": "stdout",
     "output_type": "stream",
     "text": [
      "(5908, 1)\n",
      "(1477, 1)\n",
      "(5908,)\n",
      "(1477,)\n"
     ]
    }
   ],
   "source": [
    "for i in (X_train, X_test, y_train, y_test):\n",
    "    print(i.shape)"
   ]
  },
  {
   "cell_type": "markdown",
   "id": "81ce79e2-3424-41ee-b268-12cafd46184c",
   "metadata": {},
   "source": [
    "## Manuel Lineer Regresyon"
   ]
  },
  {
   "cell_type": "code",
   "execution_count": 15,
   "id": "e530a3a0-7cf3-4dfa-befa-dbee5df22a3c",
   "metadata": {},
   "outputs": [
    {
     "data": {
      "text/plain": [
       "array([ 36.70483532, 134.57376563])"
      ]
     },
     "execution_count": 15,
     "metadata": {},
     "output_type": "execute_result"
    }
   ],
   "source": [
    "np.polyfit(X_train.engine_size, y_train, deg = 1)"
   ]
  },
  {
   "cell_type": "code",
   "execution_count": 16,
   "id": "6a00348d-fe5e-4173-9375-010f59ebf25a",
   "metadata": {},
   "outputs": [],
   "source": [
    "# y = b1 * X + b0"
   ]
  },
  {
   "cell_type": "code",
   "execution_count": 17,
   "id": "586840e6-70e3-4b40-916f-4b9cd0d0a4fd",
   "metadata": {},
   "outputs": [],
   "source": [
    "b1, b0 = np.polyfit(X_train.engine_size, y_train, deg = 1)"
   ]
  },
  {
   "cell_type": "code",
   "execution_count": 18,
   "id": "74dd258d-590b-488c-9b45-a8a74f388668",
   "metadata": {},
   "outputs": [
    {
     "name": "stdout",
     "output_type": "stream",
     "text": [
      "b1        : 36.704835315985\n",
      "b0        : 134.57376563227712\n"
     ]
    }
   ],
   "source": [
    "print(\"b1        :\", b1)\n",
    "print(\"b0        :\", b0)"
   ]
  },
  {
   "cell_type": "code",
   "execution_count": 19,
   "id": "39ff7854-308b-4a87-ad23-1796c3fafa3d",
   "metadata": {},
   "outputs": [
    {
     "data": {
      "text/html": [
       "<div>\n",
       "<style scoped>\n",
       "    .dataframe tbody tr th:only-of-type {\n",
       "        vertical-align: middle;\n",
       "    }\n",
       "\n",
       "    .dataframe tbody tr th {\n",
       "        vertical-align: top;\n",
       "    }\n",
       "\n",
       "    .dataframe thead th {\n",
       "        text-align: right;\n",
       "    }\n",
       "</style>\n",
       "<table border=\"1\" class=\"dataframe\">\n",
       "  <thead>\n",
       "    <tr style=\"text-align: right;\">\n",
       "      <th></th>\n",
       "      <th>engine_size</th>\n",
       "    </tr>\n",
       "  </thead>\n",
       "  <tbody>\n",
       "    <tr>\n",
       "      <th>6307</th>\n",
       "      <td>244.688272</td>\n",
       "    </tr>\n",
       "    <tr>\n",
       "      <th>5036</th>\n",
       "      <td>207.983436</td>\n",
       "    </tr>\n",
       "    <tr>\n",
       "      <th>1995</th>\n",
       "      <td>274.052140</td>\n",
       "    </tr>\n",
       "    <tr>\n",
       "      <th>4156</th>\n",
       "      <td>226.335854</td>\n",
       "    </tr>\n",
       "    <tr>\n",
       "      <th>6328</th>\n",
       "      <td>244.688272</td>\n",
       "    </tr>\n",
       "    <tr>\n",
       "      <th>...</th>\n",
       "      <td>...</td>\n",
       "    </tr>\n",
       "    <tr>\n",
       "      <th>1632</th>\n",
       "      <td>340.120843</td>\n",
       "    </tr>\n",
       "    <tr>\n",
       "      <th>4640</th>\n",
       "      <td>266.711173</td>\n",
       "    </tr>\n",
       "    <tr>\n",
       "      <th>4021</th>\n",
       "      <td>226.335854</td>\n",
       "    </tr>\n",
       "    <tr>\n",
       "      <th>660</th>\n",
       "      <td>226.335854</td>\n",
       "    </tr>\n",
       "    <tr>\n",
       "      <th>4271</th>\n",
       "      <td>226.335854</td>\n",
       "    </tr>\n",
       "  </tbody>\n",
       "</table>\n",
       "<p>1477 rows × 1 columns</p>\n",
       "</div>"
      ],
      "text/plain": [
       "      engine_size\n",
       "6307   244.688272\n",
       "5036   207.983436\n",
       "1995   274.052140\n",
       "4156   226.335854\n",
       "6328   244.688272\n",
       "...           ...\n",
       "1632   340.120843\n",
       "4640   266.711173\n",
       "4021   226.335854\n",
       "660    226.335854\n",
       "4271   226.335854\n",
       "\n",
       "[1477 rows x 1 columns]"
      ]
     },
     "execution_count": 19,
     "metadata": {},
     "output_type": "execute_result"
    }
   ],
   "source": [
    "y_pred_test = b1 * X_test + b0\n",
    "y_pred_test"
   ]
  },
  {
   "cell_type": "code",
   "execution_count": 20,
   "id": "fca94a93-5998-4fee-9eaf-6f4efd59a7ac",
   "metadata": {},
   "outputs": [
    {
     "data": {
      "text/html": [
       "<div>\n",
       "<style scoped>\n",
       "    .dataframe tbody tr th:only-of-type {\n",
       "        vertical-align: middle;\n",
       "    }\n",
       "\n",
       "    .dataframe tbody tr th {\n",
       "        vertical-align: top;\n",
       "    }\n",
       "\n",
       "    .dataframe thead th {\n",
       "        text-align: right;\n",
       "    }\n",
       "</style>\n",
       "<table border=\"1\" class=\"dataframe\">\n",
       "  <thead>\n",
       "    <tr style=\"text-align: right;\">\n",
       "      <th></th>\n",
       "      <th>engine_size</th>\n",
       "    </tr>\n",
       "  </thead>\n",
       "  <tbody>\n",
       "    <tr>\n",
       "      <th>1095</th>\n",
       "      <td>207.983436</td>\n",
       "    </tr>\n",
       "    <tr>\n",
       "      <th>3538</th>\n",
       "      <td>329.109393</td>\n",
       "    </tr>\n",
       "    <tr>\n",
       "      <th>2377</th>\n",
       "      <td>226.335854</td>\n",
       "    </tr>\n",
       "    <tr>\n",
       "      <th>3414</th>\n",
       "      <td>296.075041</td>\n",
       "    </tr>\n",
       "    <tr>\n",
       "      <th>880</th>\n",
       "      <td>259.370206</td>\n",
       "    </tr>\n",
       "    <tr>\n",
       "      <th>...</th>\n",
       "      <td>...</td>\n",
       "    </tr>\n",
       "    <tr>\n",
       "      <th>4931</th>\n",
       "      <td>207.983436</td>\n",
       "    </tr>\n",
       "    <tr>\n",
       "      <th>3264</th>\n",
       "      <td>200.642469</td>\n",
       "    </tr>\n",
       "    <tr>\n",
       "      <th>1653</th>\n",
       "      <td>318.097942</td>\n",
       "    </tr>\n",
       "    <tr>\n",
       "      <th>2607</th>\n",
       "      <td>263.040689</td>\n",
       "    </tr>\n",
       "    <tr>\n",
       "      <th>2732</th>\n",
       "      <td>207.983436</td>\n",
       "    </tr>\n",
       "  </tbody>\n",
       "</table>\n",
       "<p>5908 rows × 1 columns</p>\n",
       "</div>"
      ],
      "text/plain": [
       "      engine_size\n",
       "1095   207.983436\n",
       "3538   329.109393\n",
       "2377   226.335854\n",
       "3414   296.075041\n",
       "880    259.370206\n",
       "...           ...\n",
       "4931   207.983436\n",
       "3264   200.642469\n",
       "1653   318.097942\n",
       "2607   263.040689\n",
       "2732   207.983436\n",
       "\n",
       "[5908 rows x 1 columns]"
      ]
     },
     "execution_count": 20,
     "metadata": {},
     "output_type": "execute_result"
    }
   ],
   "source": [
    "y_pred_train = b1 * X_train + b0\n",
    "y_pred_train"
   ]
  },
  {
   "cell_type": "code",
   "execution_count": 21,
   "id": "a0ecf2ef-f64d-42ff-aafb-bfdc6abaf558",
   "metadata": {
    "ExecuteTime": {
     "end_time": "2023-05-06T08:09:11.357196Z",
     "start_time": "2023-05-06T08:09:11.353981Z"
    }
   },
   "outputs": [],
   "source": [
    "from sklearn.metrics import mean_absolute_error, mean_squared_error, r2_score"
   ]
  },
  {
   "cell_type": "code",
   "execution_count": 22,
   "id": "4a9605ad-9fb8-4393-b890-756051e903a6",
   "metadata": {
    "ExecuteTime": {
     "end_time": "2023-05-06T08:10:04.393456Z",
     "start_time": "2023-05-06T08:10:04.386122Z"
    }
   },
   "outputs": [
    {
     "name": "stdout",
     "output_type": "stream",
     "text": [
      "Model testing performance: \n",
      "--------------------------\n",
      "R2_score \t: 0.7335273048764512\n",
      "MAE \t\t: 23.025089125242282\n",
      "MSE \t\t: 912.8346430153166\n",
      "RMSE \t\t: 30.213153476843768\n"
     ]
    }
   ],
   "source": [
    "def eval_metric(actual, pred):\n",
    "    mae = mean_absolute_error(actual, pred)\n",
    "    mse = mean_squared_error(actual, pred)\n",
    "    rmse = np.sqrt(mean_squared_error(actual, pred))\n",
    "    R2_score = r2_score(actual, pred)\n",
    "    #print(\"Model testing performance: \")\n",
    "    print(\"--------------------------\")\n",
    "    print(f\"R2_score \\t: {R2_score}\")\n",
    "    print(f\"MAE \\t\\t: {mae}\")\n",
    "    print(f\"MSE \\t\\t: {mse}\")\n",
    "    print(f\"RMSE \\t\\t: {rmse}\")\n",
    "    \n",
    "print(\"Model testing performance: \")   \n",
    "eval_metric(y_test, y_pred_test)"
   ]
  },
  {
   "cell_type": "code",
   "execution_count": 23,
   "id": "3fbc0d6c-0375-45eb-9196-b1f5274af5c0",
   "metadata": {
    "ExecuteTime": {
     "end_time": "2023-05-06T08:11:17.843843Z",
     "start_time": "2023-05-06T08:11:17.831381Z"
    }
   },
   "outputs": [
    {
     "name": "stdout",
     "output_type": "stream",
     "text": [
      "Model training performance: \n",
      "--------------------------\n",
      "R2_score \t: 0.7221684836911433\n",
      "MAE \t\t: 23.34703683009361\n",
      "MSE \t\t: 950.9184766753834\n",
      "RMSE \t\t: 30.83696607442735\n"
     ]
    }
   ],
   "source": [
    "print(\"Model training performance: \")\n",
    "eval_metric(y_train, y_pred_train)"
   ]
  },
  {
   "cell_type": "markdown",
   "id": "bd1155e1-5c59-400f-81ac-0f6d40dd7102",
   "metadata": {},
   "source": [
    "## LinearRegression"
   ]
  },
  {
   "cell_type": "code",
   "execution_count": 24,
   "id": "55a5a479-d1ff-40b7-99f6-c28a2ae60d22",
   "metadata": {},
   "outputs": [],
   "source": [
    "from sklearn.linear_model import LinearRegression"
   ]
  },
  {
   "cell_type": "code",
   "execution_count": 25,
   "id": "90842fb0",
   "metadata": {
    "ExecuteTime": {
     "end_time": "2023-05-06T07:53:07.562385Z",
     "start_time": "2023-05-06T07:53:07.555959Z"
    }
   },
   "outputs": [
    {
     "data": {
      "text/plain": [
       "LinearRegression()"
      ]
     },
     "execution_count": 25,
     "metadata": {},
     "output_type": "execute_result"
    }
   ],
   "source": [
    "lin_reg = LinearRegression()\n",
    "lin_reg.fit(X_train, y_train)"
   ]
  },
  {
   "cell_type": "code",
   "execution_count": 26,
   "id": "f32f45d3",
   "metadata": {
    "ExecuteTime": {
     "end_time": "2023-05-06T08:02:06.893834Z",
     "start_time": "2023-05-06T08:02:06.881608Z"
    }
   },
   "outputs": [
    {
     "data": {
      "text/plain": [
       "array([36.70483532])"
      ]
     },
     "execution_count": 26,
     "metadata": {},
     "output_type": "execute_result"
    }
   ],
   "source": [
    "lin_reg.coef_      # b1"
   ]
  },
  {
   "cell_type": "code",
   "execution_count": 27,
   "id": "a2ea1ccd",
   "metadata": {
    "ExecuteTime": {
     "end_time": "2023-05-06T08:02:08.448453Z",
     "start_time": "2023-05-06T08:02:08.431856Z"
    }
   },
   "outputs": [
    {
     "data": {
      "text/plain": [
       "134.5737656322779"
      ]
     },
     "execution_count": 27,
     "metadata": {},
     "output_type": "execute_result"
    }
   ],
   "source": [
    "lin_reg.intercept_ # b0"
   ]
  },
  {
   "cell_type": "code",
   "execution_count": 28,
   "id": "39077ef0",
   "metadata": {
    "ExecuteTime": {
     "end_time": "2023-05-06T08:02:29.501561Z",
     "start_time": "2023-05-06T08:02:29.481876Z"
    }
   },
   "outputs": [
    {
     "data": {
      "text/plain": [
       "array([244.68827158, 207.98343626, 274.05213983, ..., 226.33585392,\n",
       "       226.33585392, 226.33585392])"
      ]
     },
     "execution_count": 28,
     "metadata": {},
     "output_type": "execute_result"
    }
   ],
   "source": [
    "y_pred_test = lin_reg.predict(X_test)\n",
    "y_pred_test"
   ]
  },
  {
   "cell_type": "code",
   "execution_count": 29,
   "id": "349562d9",
   "metadata": {
    "ExecuteTime": {
     "end_time": "2023-05-06T08:10:53.718158Z",
     "start_time": "2023-05-06T08:10:53.712895Z"
    }
   },
   "outputs": [
    {
     "data": {
      "text/plain": [
       "array([207.98343626, 329.10939281, 226.33585392, ..., 318.09794221,\n",
       "       263.04068924, 207.98343626])"
      ]
     },
     "execution_count": 29,
     "metadata": {},
     "output_type": "execute_result"
    }
   ],
   "source": [
    "y_pred_train = lin_reg.predict(X_train)\n",
    "y_pred_train"
   ]
  },
  {
   "cell_type": "code",
   "execution_count": 30,
   "id": "dffbaaa3-30f5-49d7-960a-93fa8f68f3e3",
   "metadata": {},
   "outputs": [],
   "source": [
    "def eval_metric(actual, pred):\n",
    "    mae = mean_absolute_error(actual, pred)\n",
    "    mse = mean_squared_error(actual, pred)\n",
    "    rmse = np.sqrt(mean_squared_error(actual, pred))\n",
    "    R2_score = r2_score(actual, pred)\n",
    "    #print(\"Model testing performance: \")\n",
    "    print(\"--------------------------\")\n",
    "    print(f\"R2_score \\t: {R2_score}\")\n",
    "    print(f\"MAE \\t\\t: {mae}\")\n",
    "    print(f\"MSE \\t\\t: {mse}\")\n",
    "    print(f\"RMSE \\t\\t: {rmse}\")\n",
    "    "
   ]
  },
  {
   "cell_type": "code",
   "execution_count": 31,
   "id": "29513adc-2717-4437-aeb7-4908d399eeb6",
   "metadata": {},
   "outputs": [
    {
     "name": "stdout",
     "output_type": "stream",
     "text": [
      "Model testing performance: \n",
      "--------------------------\n",
      "R2_score \t: 0.7335273048764516\n",
      "MAE \t\t: 23.025089125242342\n",
      "MSE \t\t: 912.8346430153156\n",
      "RMSE \t\t: 30.21315347684375\n"
     ]
    }
   ],
   "source": [
    "print(\"Model testing performance: \")\n",
    "eval_metric(y_test, y_pred_test)"
   ]
  },
  {
   "cell_type": "code",
   "execution_count": 32,
   "id": "f60ae096-9926-4b98-8335-cbc84c070fff",
   "metadata": {},
   "outputs": [
    {
     "name": "stdout",
     "output_type": "stream",
     "text": [
      "Model training performance: \n",
      "--------------------------\n",
      "R2_score \t: 0.7221684836911433\n",
      "MAE \t\t: 23.347036830093717\n",
      "MSE \t\t: 950.9184766753833\n",
      "RMSE \t\t: 30.836966074427348\n"
     ]
    }
   ],
   "source": [
    "print(\"Model training performance: \")\n",
    "eval_metric(y_train, y_pred_train)"
   ]
  },
  {
   "cell_type": "code",
   "execution_count": 33,
   "id": "c81e5a90-40ef-4c33-9976-ff79ef2e7106",
   "metadata": {},
   "outputs": [],
   "source": [
    "# MAE ile RMSE arasındaki fark outlier etkisini gösterir"
   ]
  },
  {
   "cell_type": "code",
   "execution_count": 34,
   "id": "fbfa019c-caee-4954-836f-01ad7aa1e743",
   "metadata": {},
   "outputs": [
    {
     "data": {
      "text/html": [
       "<div>\n",
       "<style scoped>\n",
       "    .dataframe tbody tr th:only-of-type {\n",
       "        vertical-align: middle;\n",
       "    }\n",
       "\n",
       "    .dataframe tbody tr th {\n",
       "        vertical-align: top;\n",
       "    }\n",
       "\n",
       "    .dataframe thead th {\n",
       "        text-align: right;\n",
       "    }\n",
       "</style>\n",
       "<table border=\"1\" class=\"dataframe\">\n",
       "  <thead>\n",
       "    <tr style=\"text-align: right;\">\n",
       "      <th></th>\n",
       "      <th>Actual</th>\n",
       "      <th>pred</th>\n",
       "      <th>residual</th>\n",
       "    </tr>\n",
       "  </thead>\n",
       "  <tbody>\n",
       "    <tr>\n",
       "      <th>6307</th>\n",
       "      <td>241</td>\n",
       "      <td>244.688272</td>\n",
       "      <td>-3.688272</td>\n",
       "    </tr>\n",
       "    <tr>\n",
       "      <th>5036</th>\n",
       "      <td>229</td>\n",
       "      <td>207.983436</td>\n",
       "      <td>21.016564</td>\n",
       "    </tr>\n",
       "    <tr>\n",
       "      <th>1995</th>\n",
       "      <td>253</td>\n",
       "      <td>274.052140</td>\n",
       "      <td>-21.052140</td>\n",
       "    </tr>\n",
       "    <tr>\n",
       "      <th>4156</th>\n",
       "      <td>183</td>\n",
       "      <td>226.335854</td>\n",
       "      <td>-43.335854</td>\n",
       "    </tr>\n",
       "    <tr>\n",
       "      <th>6328</th>\n",
       "      <td>231</td>\n",
       "      <td>244.688272</td>\n",
       "      <td>-13.688272</td>\n",
       "    </tr>\n",
       "    <tr>\n",
       "      <th>1696</th>\n",
       "      <td>195</td>\n",
       "      <td>222.665370</td>\n",
       "      <td>-27.665370</td>\n",
       "    </tr>\n",
       "    <tr>\n",
       "      <th>4313</th>\n",
       "      <td>301</td>\n",
       "      <td>263.040689</td>\n",
       "      <td>37.959311</td>\n",
       "    </tr>\n",
       "    <tr>\n",
       "      <th>5685</th>\n",
       "      <td>277</td>\n",
       "      <td>266.711173</td>\n",
       "      <td>10.288827</td>\n",
       "    </tr>\n",
       "    <tr>\n",
       "      <th>4902</th>\n",
       "      <td>201</td>\n",
       "      <td>193.301502</td>\n",
       "      <td>7.698498</td>\n",
       "    </tr>\n",
       "    <tr>\n",
       "      <th>6873</th>\n",
       "      <td>280</td>\n",
       "      <td>233.676821</td>\n",
       "      <td>46.323179</td>\n",
       "    </tr>\n",
       "    <tr>\n",
       "      <th>572</th>\n",
       "      <td>248</td>\n",
       "      <td>252.029239</td>\n",
       "      <td>-4.029239</td>\n",
       "    </tr>\n",
       "    <tr>\n",
       "      <th>4800</th>\n",
       "      <td>251</td>\n",
       "      <td>226.335854</td>\n",
       "      <td>24.664146</td>\n",
       "    </tr>\n",
       "    <tr>\n",
       "      <th>4117</th>\n",
       "      <td>196</td>\n",
       "      <td>207.983436</td>\n",
       "      <td>-11.983436</td>\n",
       "    </tr>\n",
       "    <tr>\n",
       "      <th>6636</th>\n",
       "      <td>318</td>\n",
       "      <td>296.075041</td>\n",
       "      <td>21.924959</td>\n",
       "    </tr>\n",
       "    <tr>\n",
       "      <th>1785</th>\n",
       "      <td>251</td>\n",
       "      <td>207.983436</td>\n",
       "      <td>43.016564</td>\n",
       "    </tr>\n",
       "    <tr>\n",
       "      <th>5808</th>\n",
       "      <td>241</td>\n",
       "      <td>218.994887</td>\n",
       "      <td>22.005113</td>\n",
       "    </tr>\n",
       "    <tr>\n",
       "      <th>1597</th>\n",
       "      <td>327</td>\n",
       "      <td>318.097942</td>\n",
       "      <td>8.902058</td>\n",
       "    </tr>\n",
       "    <tr>\n",
       "      <th>4312</th>\n",
       "      <td>283</td>\n",
       "      <td>263.040689</td>\n",
       "      <td>19.959311</td>\n",
       "    </tr>\n",
       "    <tr>\n",
       "      <th>3864</th>\n",
       "      <td>242</td>\n",
       "      <td>244.688272</td>\n",
       "      <td>-2.688272</td>\n",
       "    </tr>\n",
       "    <tr>\n",
       "      <th>5206</th>\n",
       "      <td>220</td>\n",
       "      <td>207.983436</td>\n",
       "      <td>12.016564</td>\n",
       "    </tr>\n",
       "  </tbody>\n",
       "</table>\n",
       "</div>"
      ],
      "text/plain": [
       "      Actual        pred   residual\n",
       "6307     241  244.688272  -3.688272\n",
       "5036     229  207.983436  21.016564\n",
       "1995     253  274.052140 -21.052140\n",
       "4156     183  226.335854 -43.335854\n",
       "6328     231  244.688272 -13.688272\n",
       "1696     195  222.665370 -27.665370\n",
       "4313     301  263.040689  37.959311\n",
       "5685     277  266.711173  10.288827\n",
       "4902     201  193.301502   7.698498\n",
       "6873     280  233.676821  46.323179\n",
       "572      248  252.029239  -4.029239\n",
       "4800     251  226.335854  24.664146\n",
       "4117     196  207.983436 -11.983436\n",
       "6636     318  296.075041  21.924959\n",
       "1785     251  207.983436  43.016564\n",
       "5808     241  218.994887  22.005113\n",
       "1597     327  318.097942   8.902058\n",
       "4312     283  263.040689  19.959311\n",
       "3864     242  244.688272  -2.688272\n",
       "5206     220  207.983436  12.016564"
      ]
     },
     "execution_count": 34,
     "metadata": {},
     "output_type": "execute_result"
    }
   ],
   "source": [
    "my_dict = {\"Actual\": y_test, \"pred\": y_pred_test, \"residual\": y_test - y_pred_test}\n",
    "compare = pd.DataFrame(my_dict)\n",
    "compare.head(20)"
   ]
  },
  {
   "cell_type": "code",
   "execution_count": 35,
   "id": "0ab08ac1",
   "metadata": {
    "ExecuteTime": {
     "end_time": "2023-05-06T08:26:33.632200Z",
     "start_time": "2023-05-06T08:26:33.614343Z"
    }
   },
   "outputs": [],
   "source": [
    "from yellowbrick.regressor import ResidualsPlot"
   ]
  },
  {
   "cell_type": "code",
   "execution_count": 36,
   "id": "beaff89b",
   "metadata": {
    "ExecuteTime": {
     "end_time": "2023-05-06T08:26:44.899335Z",
     "start_time": "2023-05-06T08:26:44.526680Z"
    }
   },
   "outputs": [
    {
     "data": {
      "image/png": "[encoded data removed]",
      "text/plain": [
       "<Figure size 800x550 with 2 Axes>"
      ]
     },
     "metadata": {},
     "output_type": "display_data"
    }
   ],
   "source": [
    "model = LinearRegression()\n",
    "visualizer = ResidualsPlot(model)\n",
    "\n",
    "visualizer.fit(X_train, y_train)\n",
    "visualizer.score(X_test, y_test)\n",
    "visualizer.show();"
   ]
  },
  {
   "cell_type": "code",
   "execution_count": 37,
   "id": "5d96ceb2",
   "metadata": {
    "ExecuteTime": {
     "end_time": "2023-05-06T08:27:33.937386Z",
     "start_time": "2023-05-06T08:27:33.926838Z"
    }
   },
   "outputs": [],
   "source": [
    "from yellowbrick.regressor import PredictionError"
   ]
  },
  {
   "cell_type": "code",
   "execution_count": 38,
   "id": "0d345b5a",
   "metadata": {
    "ExecuteTime": {
     "end_time": "2023-05-06T08:27:39.750257Z",
     "start_time": "2023-05-06T08:27:39.581824Z"
    }
   },
   "outputs": [
    {
     "data": {
      "image/png": "[encoded data removed]",
      "text/plain": [
       "<Figure size 800x550 with 1 Axes>"
      ]
     },
     "metadata": {},
     "output_type": "display_data"
    }
   ],
   "source": [
    "model = LinearRegression()\n",
    "visualizer = PredictionError(model)\n",
    "\n",
    "visualizer.fit(X_train, y_train)\n",
    "visualizer.score(X_test, y_test)\n",
    "visualizer.show();"
   ]
  },
  {
   "cell_type": "markdown",
   "id": "5125cedd-9a56-422b-9646-a216d5d04017",
   "metadata": {},
   "source": [
    "# Multiple Lineer Regression"
   ]
  },
  {
   "cell_type": "markdown",
   "id": "e927642e-eeec-47a7-bdbb-e1b06b0fda3d",
   "metadata": {},
   "source": [
    "## Train-Test Split"
   ]
  },
  {
   "cell_type": "code",
   "execution_count": 39,
   "id": "2d91f06a-35a6-4e9a-88e4-bb718761ca19",
   "metadata": {},
   "outputs": [
    {
     "data": {
      "text/plain": [
       "Index(['make', 'model', 'vehicle_class', 'engine_size', 'cylinders',\n",
       "       'transmission', 'fuel_type', 'fuel_cons_city', 'fuel_cons_hwy',\n",
       "       'fuel_cons_comb', 'mpgfuel_cons_comb', 'co2'],\n",
       "      dtype='object')"
      ]
     },
     "execution_count": 39,
     "metadata": {},
     "output_type": "execute_result"
    }
   ],
   "source": [
    "df.columns"
   ]
  },
  {
   "cell_type": "code",
   "execution_count": 67,
   "id": "8120b8bf-6e28-4fb4-8426-dc9166a56f7f",
   "metadata": {
    "ExecuteTime": {
     "end_time": "2023-05-06T11:42:00.022667Z",
     "start_time": "2023-05-06T11:42:00.004391Z"
    }
   },
   "outputs": [],
   "source": [
    "X = df[[\"engine_size\", \"cylinders\", \"fuel_cons_comb\", \"mpgfuel_cons_comb\"]]\n",
    "y = df[\"co2\"]"
   ]
  },
  {
   "cell_type": "code",
   "execution_count": 68,
   "id": "629f6716-cb6f-4fd3-943c-e6eb58f891f4",
   "metadata": {
    "ExecuteTime": {
     "end_time": "2023-05-06T11:42:00.043368Z",
     "start_time": "2023-05-06T11:42:00.023679Z"
    }
   },
   "outputs": [],
   "source": [
    "X_train, X_test, y_train, y_test = train_test_split(X, y, test_size = 0.2, random_state = 42)"
   ]
  },
  {
   "cell_type": "code",
   "execution_count": 69,
   "id": "3f27ebc9-59a3-4aa7-81b4-ad04b12a189f",
   "metadata": {
    "ExecuteTime": {
     "end_time": "2023-05-06T11:42:00.064090Z",
     "start_time": "2023-05-06T11:42:00.044364Z"
    }
   },
   "outputs": [
    {
     "name": "stdout",
     "output_type": "stream",
     "text": [
      "X Train features shape: (5908, 4)\n",
      "y Train features shape: (5908,)\n",
      "X Test features shape: (1477, 4)\n",
      "y Test features shape: (1477,)\n"
     ]
    }
   ],
   "source": [
    "print(\"X Train features shape: {}\\ny Train features shape: {}\\nX Test features shape: {}\\ny Test features shape: {}\" \n",
    "      .format(X_train.shape, y_train.shape, X_test.shape, y_test.shape))"
   ]
  },
  {
   "cell_type": "markdown",
   "id": "4cd4f281-2e32-47a0-971b-9fc7585fc909",
   "metadata": {},
   "source": [
    "## Multiple Lineer Regresyon"
   ]
  },
  {
   "cell_type": "code",
   "execution_count": 70,
   "id": "f1e31299-4555-4414-b544-6c2da153674b",
   "metadata": {
    "ExecuteTime": {
     "end_time": "2023-05-06T11:42:00.084929Z",
     "start_time": "2023-05-06T11:42:00.065093Z"
    }
   },
   "outputs": [],
   "source": [
    "multi_lin_reg = LinearRegression()"
   ]
  },
  {
   "cell_type": "code",
   "execution_count": 71,
   "id": "b2500bd1-3bff-4e22-a45e-7799475c385b",
   "metadata": {
    "ExecuteTime": {
     "end_time": "2023-05-06T11:42:00.100789Z",
     "start_time": "2023-05-06T11:42:00.086941Z"
    }
   },
   "outputs": [
    {
     "data": {
      "text/plain": [
       "LinearRegression()"
      ]
     },
     "execution_count": 71,
     "metadata": {},
     "output_type": "execute_result"
    }
   ],
   "source": [
    "multi_lin_reg.fit(X_train, y_train)"
   ]
  },
  {
   "cell_type": "code",
   "execution_count": 72,
   "id": "3d6f6be6-aa5f-4a8c-8e56-5707b6427b50",
   "metadata": {
    "ExecuteTime": {
     "end_time": "2023-05-06T11:42:00.116314Z",
     "start_time": "2023-05-06T11:42:00.101790Z"
    }
   },
   "outputs": [],
   "source": [
    "y_pred = multi_lin_reg.predict(X_test)\n",
    "y_train_pred = multi_lin_reg.predict(X_train)"
   ]
  },
  {
   "cell_type": "code",
   "execution_count": 73,
   "id": "83dbaafa-864a-48ec-8cbd-377d1194630c",
   "metadata": {},
   "outputs": [],
   "source": [
    "def train_val(y_train, y_train_pred, y_test, y_pred, i):\n",
    "    \n",
    "    scores = {i+\"_train\": {\"R2\" : r2_score(y_train, y_train_pred),\n",
    "    \"mae\" : mean_absolute_error(y_train, y_train_pred),\n",
    "    \"mse\" : mean_squared_error(y_train, y_train_pred),                          \n",
    "    \"rmse\" : np.sqrt(mean_squared_error(y_train, y_train_pred))},\n",
    "    \n",
    "    i+\"_test\": {\"R2\" : r2_score(y_test, y_pred),\n",
    "    \"mae\" : mean_absolute_error(y_test, y_pred),\n",
    "    \"mse\" : mean_squared_error(y_test, y_pred),\n",
    "    \"rmse\" : np.sqrt(mean_squared_error(y_test, y_pred))}}\n",
    "    \n",
    "    return pd.DataFrame(scores)"
   ]
  },
  {
   "cell_type": "code",
   "execution_count": 74,
   "id": "f948d7a6-2fa8-4c73-9855-8cd25800232d",
   "metadata": {
    "ExecuteTime": {
     "end_time": "2023-05-06T11:42:00.134611Z",
     "start_time": "2023-05-06T11:42:00.117314Z"
    }
   },
   "outputs": [
    {
     "data": {
      "text/html": [
       "<div>\n",
       "<style scoped>\n",
       "    .dataframe tbody tr th:only-of-type {\n",
       "        vertical-align: middle;\n",
       "    }\n",
       "\n",
       "    .dataframe tbody tr th {\n",
       "        vertical-align: top;\n",
       "    }\n",
       "\n",
       "    .dataframe thead th {\n",
       "        text-align: right;\n",
       "    }\n",
       "</style>\n",
       "<table border=\"1\" class=\"dataframe\">\n",
       "  <thead>\n",
       "    <tr style=\"text-align: right;\">\n",
       "      <th></th>\n",
       "      <th>multi_train</th>\n",
       "      <th>multi_test</th>\n",
       "    </tr>\n",
       "  </thead>\n",
       "  <tbody>\n",
       "    <tr>\n",
       "      <th>R2</th>\n",
       "      <td>0.903380</td>\n",
       "      <td>0.900396</td>\n",
       "    </tr>\n",
       "    <tr>\n",
       "      <th>mae</th>\n",
       "      <td>11.427166</td>\n",
       "      <td>11.676076</td>\n",
       "    </tr>\n",
       "    <tr>\n",
       "      <th>mse</th>\n",
       "      <td>330.301688</td>\n",
       "      <td>342.600757</td>\n",
       "    </tr>\n",
       "    <tr>\n",
       "      <th>rmse</th>\n",
       "      <td>18.174204</td>\n",
       "      <td>18.509478</td>\n",
       "    </tr>\n",
       "  </tbody>\n",
       "</table>\n",
       "</div>"
      ],
      "text/plain": [
       "      multi_train  multi_test\n",
       "R2       0.903380    0.900396\n",
       "mae     11.427166   11.676076\n",
       "mse    330.301688  342.600757\n",
       "rmse    18.174204   18.509478"
      ]
     },
     "execution_count": 74,
     "metadata": {},
     "output_type": "execute_result"
    }
   ],
   "source": [
    "multiple_linear = train_val(y_train, y_train_pred, y_test, y_pred, \"multi\")\n",
    "multiple_linear"
   ]
  },
  {
   "cell_type": "markdown",
   "id": "0fa30ec1-4da2-439a-aeed-67b55a47318b",
   "metadata": {},
   "source": [
    "## Polynomial Regresyon"
   ]
  },
  {
   "cell_type": "code",
   "execution_count": 75,
   "id": "71b2837f-5945-4424-b582-4332cd859d06",
   "metadata": {},
   "outputs": [],
   "source": [
    "def poly(d):\n",
    "    \n",
    "    train_rmse_errors = []\n",
    "    test_rmse_errors = []\n",
    "    number_of_features = []\n",
    "    \n",
    "    for i in range(1, d):\n",
    "        polynomial_converter = PolynomialFeatures(degree = i, include_bias =False) ## For döngüsü döndükçe degreemiz artıyor,\n",
    "        poly_features = polynomial_converter.fit_transform(X)                        # bundan dolayı feature sayımız artıyor.\n",
    "        \n",
    "        X_train, X_test, y_train, y_test = train_test_split(poly_features, y, test_size=0.3, random_state=101)\n",
    "        \n",
    "        model = LinearRegression(fit_intercept=True)\n",
    "        model.fit(X_train, y_train)\n",
    "        \n",
    "        train_pred = model.predict(X_train)\n",
    "        test_pred = model.predict(X_test)\n",
    "        \n",
    "        train_RMSE = np.sqrt(mean_squared_error(y_train,train_pred))\n",
    "        test_RMSE = np.sqrt(mean_squared_error(y_test,test_pred))\n",
    "        \n",
    "        train_rmse_errors.append(train_RMSE)\n",
    "        test_rmse_errors.append(test_RMSE)\n",
    "        \n",
    "        number_of_features.append(poly_features.shape[1])\n",
    "        \n",
    "    return pd.DataFrame({\"train_rmse_errors\": train_rmse_errors, \"test_rmse_errors\":test_rmse_errors, \n",
    "                         \"number of features\":number_of_features}, index=range(1,d))"
   ]
  },
  {
   "cell_type": "code",
   "execution_count": 76,
   "id": "2c1e06aa-163a-4ca7-981f-4997c080b8b9",
   "metadata": {},
   "outputs": [
    {
     "data": {
      "text/html": [
       "<div>\n",
       "<style scoped>\n",
       "    .dataframe tbody tr th:only-of-type {\n",
       "        vertical-align: middle;\n",
       "    }\n",
       "\n",
       "    .dataframe tbody tr th {\n",
       "        vertical-align: top;\n",
       "    }\n",
       "\n",
       "    .dataframe thead th {\n",
       "        text-align: right;\n",
       "    }\n",
       "</style>\n",
       "<table border=\"1\" class=\"dataframe\">\n",
       "  <thead>\n",
       "    <tr style=\"text-align: right;\">\n",
       "      <th></th>\n",
       "      <th>train_rmse_errors</th>\n",
       "      <th>test_rmse_errors</th>\n",
       "      <th>number of features</th>\n",
       "    </tr>\n",
       "  </thead>\n",
       "  <tbody>\n",
       "    <tr>\n",
       "      <th>1</th>\n",
       "      <td>18.314047</td>\n",
       "      <td>18.087420</td>\n",
       "      <td>4</td>\n",
       "    </tr>\n",
       "    <tr>\n",
       "      <th>2</th>\n",
       "      <td>15.788285</td>\n",
       "      <td>15.680230</td>\n",
       "      <td>14</td>\n",
       "    </tr>\n",
       "    <tr>\n",
       "      <th>3</th>\n",
       "      <td>14.314294</td>\n",
       "      <td>13.914205</td>\n",
       "      <td>34</td>\n",
       "    </tr>\n",
       "    <tr>\n",
       "      <th>4</th>\n",
       "      <td>12.916365</td>\n",
       "      <td>12.699119</td>\n",
       "      <td>69</td>\n",
       "    </tr>\n",
       "    <tr>\n",
       "      <th>5</th>\n",
       "      <td>12.093932</td>\n",
       "      <td>12.490834</td>\n",
       "      <td>125</td>\n",
       "    </tr>\n",
       "    <tr>\n",
       "      <th>6</th>\n",
       "      <td>11.139236</td>\n",
       "      <td>13.458671</td>\n",
       "      <td>209</td>\n",
       "    </tr>\n",
       "    <tr>\n",
       "      <th>7</th>\n",
       "      <td>19.939600</td>\n",
       "      <td>116.936103</td>\n",
       "      <td>329</td>\n",
       "    </tr>\n",
       "  </tbody>\n",
       "</table>\n",
       "</div>"
      ],
      "text/plain": [
       "   train_rmse_errors  test_rmse_errors  number of features\n",
       "1          18.314047         18.087420                   4\n",
       "2          15.788285         15.680230                  14\n",
       "3          14.314294         13.914205                  34\n",
       "4          12.916365         12.699119                  69\n",
       "5          12.093932         12.490834                 125\n",
       "6          11.139236         13.458671                 209\n",
       "7          19.939600        116.936103                 329"
      ]
     },
     "execution_count": 76,
     "metadata": {},
     "output_type": "execute_result"
    }
   ],
   "source": [
    "poly(8)"
   ]
  },
  {
   "cell_type": "code",
   "execution_count": 77,
   "id": "d0873d62-085d-4ab5-b1a6-b4119ba8a1e2",
   "metadata": {},
   "outputs": [
    {
     "data": {
      "image/png": "[encoded data removed]",
      "text/plain": [
       "<Figure size 800x550 with 1 Axes>"
      ]
     },
     "metadata": {},
     "output_type": "display_data"
    }
   ],
   "source": [
    "plt.plot(range(1,7), poly(7)[\"train_rmse_errors\"], label = \"TRAIN\")\n",
    "plt.plot(range(1,7), poly(7)[\"test_rmse_errors\"], label = \"TEST\")\n",
    "plt.xlabel(\"Polynamial Complex\")\n",
    "plt.ylabel(\"RMSE\")\n",
    "plt.legend()\n",
    "plt.show()"
   ]
  },
  {
   "cell_type": "code",
   "execution_count": 78,
   "id": "f11f8092",
   "metadata": {
    "ExecuteTime": {
     "end_time": "2023-05-01T09:03:27.899464Z",
     "start_time": "2023-05-01T09:03:27.887145Z"
    }
   },
   "outputs": [],
   "source": [
    "poly_converter = PolynomialFeatures(degree = 4, include_bias=False)"
   ]
  },
  {
   "cell_type": "code",
   "execution_count": 79,
   "id": "a13f994f",
   "metadata": {
    "ExecuteTime": {
     "end_time": "2023-05-01T09:04:55.368598Z",
     "start_time": "2023-05-01T09:04:55.357249Z"
    }
   },
   "outputs": [],
   "source": [
    "poly_lin_reg = LinearRegression()"
   ]
  },
  {
   "cell_type": "code",
   "execution_count": 81,
   "id": "5b7fa9b7",
   "metadata": {
    "ExecuteTime": {
     "end_time": "2023-05-06T11:42:00.360552Z",
     "start_time": "2023-05-06T11:42:00.346891Z"
    }
   },
   "outputs": [],
   "source": [
    "X_train, X_test, y_train, y_test = train_test_split(poly_converter.fit_transform(X), y,\n",
    "                                                    test_size = 0.2, random_state = 42)"
   ]
  },
  {
   "cell_type": "code",
   "execution_count": 82,
   "id": "9fa647a8",
   "metadata": {
    "ExecuteTime": {
     "end_time": "2023-05-06T11:42:00.385083Z",
     "start_time": "2023-05-06T11:42:00.360552Z"
    }
   },
   "outputs": [
    {
     "data": {
      "text/plain": [
       "LinearRegression()"
      ]
     },
     "execution_count": 82,
     "metadata": {},
     "output_type": "execute_result"
    }
   ],
   "source": [
    "poly_lin_reg.fit(X_train, y_train)"
   ]
  },
  {
   "cell_type": "code",
   "execution_count": 83,
   "id": "a9990e56",
   "metadata": {
    "ExecuteTime": {
     "end_time": "2023-05-06T11:42:00.391814Z",
     "start_time": "2023-05-06T11:42:00.385949Z"
    }
   },
   "outputs": [],
   "source": [
    "y_train_pred = poly_lin_reg.predict(X_train)\n",
    "y_pred = poly_lin_reg.predict(X_test)"
   ]
  },
  {
   "cell_type": "code",
   "execution_count": 84,
   "id": "a6a7aa85",
   "metadata": {
    "ExecuteTime": {
     "end_time": "2023-05-06T11:42:00.407432Z",
     "start_time": "2023-05-06T11:42:00.391814Z"
    }
   },
   "outputs": [
    {
     "data": {
      "text/html": [
       "<div>\n",
       "<style scoped>\n",
       "    .dataframe tbody tr th:only-of-type {\n",
       "        vertical-align: middle;\n",
       "    }\n",
       "\n",
       "    .dataframe tbody tr th {\n",
       "        vertical-align: top;\n",
       "    }\n",
       "\n",
       "    .dataframe thead th {\n",
       "        text-align: right;\n",
       "    }\n",
       "</style>\n",
       "<table border=\"1\" class=\"dataframe\">\n",
       "  <thead>\n",
       "    <tr style=\"text-align: right;\">\n",
       "      <th></th>\n",
       "      <th>poly_train</th>\n",
       "      <th>poly_test</th>\n",
       "    </tr>\n",
       "  </thead>\n",
       "  <tbody>\n",
       "    <tr>\n",
       "      <th>R2</th>\n",
       "      <td>0.953385</td>\n",
       "      <td>0.947646</td>\n",
       "    </tr>\n",
       "    <tr>\n",
       "      <th>mae</th>\n",
       "      <td>6.042713</td>\n",
       "      <td>6.426362</td>\n",
       "    </tr>\n",
       "    <tr>\n",
       "      <th>mse</th>\n",
       "      <td>159.355150</td>\n",
       "      <td>180.078847</td>\n",
       "    </tr>\n",
       "    <tr>\n",
       "      <th>rmse</th>\n",
       "      <td>12.623595</td>\n",
       "      <td>13.419346</td>\n",
       "    </tr>\n",
       "  </tbody>\n",
       "</table>\n",
       "</div>"
      ],
      "text/plain": [
       "      poly_train   poly_test\n",
       "R2      0.953385    0.947646\n",
       "mae     6.042713    6.426362\n",
       "mse   159.355150  180.078847\n",
       "rmse   12.623595   13.419346"
      ]
     },
     "execution_count": 84,
     "metadata": {},
     "output_type": "execute_result"
    }
   ],
   "source": [
    "poly_multiple_linear = train_val(y_train, y_train_pred, y_test, y_pred, \"poly\")\n",
    "poly_multiple_linear"
   ]
  },
  {
   "cell_type": "code",
   "execution_count": 85,
   "id": "08a1e0bc-b0e5-4d58-9d70-2fe56c676eb4",
   "metadata": {},
   "outputs": [
    {
     "data": {
      "text/html": [
       "<div>\n",
       "<style scoped>\n",
       "    .dataframe tbody tr th:only-of-type {\n",
       "        vertical-align: middle;\n",
       "    }\n",
       "\n",
       "    .dataframe tbody tr th {\n",
       "        vertical-align: top;\n",
       "    }\n",
       "\n",
       "    .dataframe thead th {\n",
       "        text-align: right;\n",
       "    }\n",
       "</style>\n",
       "<table border=\"1\" class=\"dataframe\">\n",
       "  <thead>\n",
       "    <tr style=\"text-align: right;\">\n",
       "      <th></th>\n",
       "      <th>multi_train</th>\n",
       "      <th>multi_test</th>\n",
       "      <th>poly_train</th>\n",
       "      <th>poly_test</th>\n",
       "    </tr>\n",
       "  </thead>\n",
       "  <tbody>\n",
       "    <tr>\n",
       "      <th>R2</th>\n",
       "      <td>0.903380</td>\n",
       "      <td>0.900396</td>\n",
       "      <td>0.953385</td>\n",
       "      <td>0.947646</td>\n",
       "    </tr>\n",
       "    <tr>\n",
       "      <th>mae</th>\n",
       "      <td>11.427166</td>\n",
       "      <td>11.676076</td>\n",
       "      <td>6.042713</td>\n",
       "      <td>6.426362</td>\n",
       "    </tr>\n",
       "    <tr>\n",
       "      <th>mse</th>\n",
       "      <td>330.301688</td>\n",
       "      <td>342.600757</td>\n",
       "      <td>159.355150</td>\n",
       "      <td>180.078847</td>\n",
       "    </tr>\n",
       "    <tr>\n",
       "      <th>rmse</th>\n",
       "      <td>18.174204</td>\n",
       "      <td>18.509478</td>\n",
       "      <td>12.623595</td>\n",
       "      <td>13.419346</td>\n",
       "    </tr>\n",
       "  </tbody>\n",
       "</table>\n",
       "</div>"
      ],
      "text/plain": [
       "      multi_train  multi_test  poly_train   poly_test\n",
       "R2       0.903380    0.900396    0.953385    0.947646\n",
       "mae     11.427166   11.676076    6.042713    6.426362\n",
       "mse    330.301688  342.600757  159.355150  180.078847\n",
       "rmse    18.174204   18.509478   12.623595   13.419346"
      ]
     },
     "execution_count": 85,
     "metadata": {},
     "output_type": "execute_result"
    }
   ],
   "source": [
    "result = pd.concat([multiple_linear, poly_multiple_linear], axis=1)\n",
    "result"
   ]
  },
  {
   "cell_type": "code",
   "execution_count": 58,
   "id": "6da98c28-c9de-4fc3-8cc0-4cf459ec535e",
   "metadata": {},
   "outputs": [
    {
     "data": {
      "image/png": "[encoded data removed]",
      "text/plain": [
       "<Figure size 800x550 with 2 Axes>"
      ]
     },
     "metadata": {},
     "output_type": "display_data"
    }
   ],
   "source": [
    "poly_lin_reg = LinearRegression()\n",
    "visualizer = ResidualsPlot(poly_lin_reg)\n",
    "\n",
    "visualizer.fit(X_train, y_train)\n",
    "visualizer.score(X_test, y_test)\n",
    "visualizer.show();"
   ]
  },
  {
   "cell_type": "code",
   "execution_count": 59,
   "id": "d17af7ff-6f78-4732-a97a-d8f70f78f6d4",
   "metadata": {},
   "outputs": [
    {
     "data": {
      "image/png": "[encoded data removed]",
      "text/plain": [
       "<Figure size 800x550 with 1 Axes>"
      ]
     },
     "metadata": {},
     "output_type": "display_data"
    }
   ],
   "source": [
    "poly_lin_reg = LinearRegression()\n",
    "visualizer = PredictionError(poly_lin_reg)\n",
    "\n",
    "visualizer.fit(X_train, y_train)\n",
    "visualizer.score(X_test, y_test)\n",
    "visualizer.show();"
   ]
  },
  {
   "cell_type": "markdown",
   "id": "ba6cc383-06b3-4b70-8047-2d8e06b2a6ed",
   "metadata": {},
   "source": [
    "## StandardScaler"
   ]
  },
  {
   "cell_type": "code",
   "execution_count": 96,
   "id": "f9770d76-75d7-4f26-b8b0-5fe54d92aea1",
   "metadata": {},
   "outputs": [],
   "source": [
    "from sklearn.preprocessing import StandardScaler, MinMaxScaler, RobustScaler\n",
    "scaler = StandardScaler()"
   ]
  },
  {
   "cell_type": "code",
   "execution_count": 97,
   "id": "7951830e-d63f-4588-b0b3-a26e7eb36eb6",
   "metadata": {},
   "outputs": [
    {
     "data": {
      "text/plain": [
       "(5908, 69)"
      ]
     },
     "execution_count": 97,
     "metadata": {},
     "output_type": "execute_result"
    }
   ],
   "source": [
    "X_train.shape # fit de ogreniyor. "
   ]
  },
  {
   "cell_type": "code",
   "execution_count": 98,
   "id": "9c9508ee-f516-4792-adf9-4cceb4573bd2",
   "metadata": {},
   "outputs": [
    {
     "data": {
      "text/plain": [
       "StandardScaler()"
      ]
     },
     "execution_count": 98,
     "metadata": {},
     "output_type": "execute_result"
    }
   ],
   "source": [
    "scaler.fit(X_train)"
   ]
  },
  {
   "cell_type": "code",
   "execution_count": 99,
   "id": "fd2a793e-fd42-4ae1-9e5b-23bbb0063fd7",
   "metadata": {},
   "outputs": [
    {
     "data": {
      "text/plain": [
       "array([[-0.12149345,  0.20534188, -0.37681659, ...,  1.49112427,\n",
       "         0.11090642, -0.1077625 ],\n",
       "       [ 0.6141664 ,  0.20534188,  0.59257065, ..., -0.88383211,\n",
       "        -0.7146818 , -0.4535469 ],\n",
       "       [-0.12149345,  0.20534188,  0.24636092, ..., -0.45682398,\n",
       "        -0.50862809, -0.38225914],\n",
       "       ...,\n",
       "       [ 0.24633648,  0.20534188, -0.20371173, ..., -0.45682398,\n",
       "        -0.17471027, -0.2363027 ],\n",
       "       [-0.48932338, -0.88513888, -0.82688924, ...,  0.46538028,\n",
       "         0.6363709 ,  0.24212651],\n",
       "       [ 0.6141664 ,  1.29582264,  0.31560287, ...,  1.02340697,\n",
       "        -0.48713916, -0.38225914]])"
      ]
     },
     "execution_count": 99,
     "metadata": {},
     "output_type": "execute_result"
    }
   ],
   "source": [
    "X_train_scaled = scaler.transform(X_train) # uyguluyor. min=0 , max = 1 yapiyor. aradakileride dagitiyor. \n",
    "X_train_scaled "
   ]
  },
  {
   "cell_type": "markdown",
   "id": "65c214b0",
   "metadata": {},
   "source": [
    "*** Not: Train datasi icin hem fit hem transform uygularken \"test\" datasi icin dsadece transform uyguluyoruz. "
   ]
  },
  {
   "cell_type": "code",
   "execution_count": 100,
   "id": "e33cfbc7-0d19-40c7-9478-70f8164ec949",
   "metadata": {},
   "outputs": [
    {
     "data": {
      "text/plain": [
       "array([[-0.12149345,  0.20534188, -0.03060686, ...,  0.34185348,\n",
       "        -0.27672051, -0.29073711],\n",
       "       [ 0.90843035,  1.29582264,  1.2849901 , ..., -0.91425102,\n",
       "        -0.98206772, -0.52952408],\n",
       "       [ 2.23261809,  1.29582264,  1.04264329, ..., -0.70108997,\n",
       "        -0.89522984, -0.50782853],\n",
       "       ...,\n",
       "       [-1.29854922, -0.88513888, -1.10385702, ..., -0.45682398,\n",
       "         1.06274987,  0.60302082],\n",
       "       [ 0.24633648,  0.20534188, -0.27295367, ...,  1.02340697,\n",
       "        -0.02542564, -0.17547199],\n",
       "       [-0.85715331, -0.88513888, -0.96537313, ..., -1.06618224,\n",
       "         0.73923453,  0.35208087]])"
      ]
     },
     "execution_count": 100,
     "metadata": {},
     "output_type": "execute_result"
    }
   ],
   "source": [
    "X_test_scaled = scaler.transform(X_test) # train datasinda fit ile ogrendigi scale etme olayini test datasina uyguluyor. \n",
    "X_test_scaled "
   ]
  },
  {
   "cell_type": "markdown",
   "id": "38ca1cbe-cac2-410c-9ad7-e4c698cb92c5",
   "metadata": {},
   "source": [
    "## Ridge Regression"
   ]
  },
  {
   "cell_type": "code",
   "execution_count": 101,
   "id": "10dda67b-9d0f-4e75-b7e3-cc33b0263db6",
   "metadata": {},
   "outputs": [],
   "source": [
    "from sklearn.linear_model import Ridge"
   ]
  },
  {
   "cell_type": "code",
   "execution_count": 102,
   "id": "9b1d32cd-59e7-4d8a-bf23-36581b656609",
   "metadata": {},
   "outputs": [],
   "source": [
    "ridge_model = Ridge(alpha=1, random_state=42)"
   ]
  },
  {
   "cell_type": "code",
   "execution_count": 103,
   "id": "6bc2f972-826b-4090-9c54-77caa622b5dd",
   "metadata": {},
   "outputs": [
    {
     "data": {
      "text/plain": [
       "Ridge(alpha=1, random_state=42)"
      ]
     },
     "execution_count": 103,
     "metadata": {},
     "output_type": "execute_result"
    }
   ],
   "source": [
    "ridge_model.fit(X_train_scaled, y_train) #scale edilen X_train ve y_train fit ederiz"
   ]
  },
  {
   "cell_type": "code",
   "execution_count": 104,
   "id": "5e2a0475-6e87-4f50-bcad-30ba0140c36a",
   "metadata": {},
   "outputs": [],
   "source": [
    "y_pred = ridge_model.predict(X_test_scaled)        \n",
    "y_train_pred = ridge_model.predict(X_train_scaled)"
   ]
  },
  {
   "cell_type": "code",
   "execution_count": 105,
   "id": "874bd7d9-9a58-46b5-a22b-c4d3de1f61c1",
   "metadata": {},
   "outputs": [
    {
     "data": {
      "text/html": [
       "<div>\n",
       "<style scoped>\n",
       "    .dataframe tbody tr th:only-of-type {\n",
       "        vertical-align: middle;\n",
       "    }\n",
       "\n",
       "    .dataframe tbody tr th {\n",
       "        vertical-align: top;\n",
       "    }\n",
       "\n",
       "    .dataframe thead th {\n",
       "        text-align: right;\n",
       "    }\n",
       "</style>\n",
       "<table border=\"1\" class=\"dataframe\">\n",
       "  <thead>\n",
       "    <tr style=\"text-align: right;\">\n",
       "      <th></th>\n",
       "      <th>ridge_train</th>\n",
       "      <th>ridge_test</th>\n",
       "    </tr>\n",
       "  </thead>\n",
       "  <tbody>\n",
       "    <tr>\n",
       "      <th>R2</th>\n",
       "      <td>0.936997</td>\n",
       "      <td>0.927938</td>\n",
       "    </tr>\n",
       "    <tr>\n",
       "      <th>mae</th>\n",
       "      <td>7.652171</td>\n",
       "      <td>8.404607</td>\n",
       "    </tr>\n",
       "    <tr>\n",
       "      <th>mse</th>\n",
       "      <td>215.378640</td>\n",
       "      <td>247.865625</td>\n",
       "    </tr>\n",
       "    <tr>\n",
       "      <th>rmse</th>\n",
       "      <td>14.675784</td>\n",
       "      <td>15.743749</td>\n",
       "    </tr>\n",
       "  </tbody>\n",
       "</table>\n",
       "</div>"
      ],
      "text/plain": [
       "      ridge_train  ridge_test\n",
       "R2       0.936997    0.927938\n",
       "mae      7.652171    8.404607\n",
       "mse    215.378640  247.865625\n",
       "rmse    14.675784   15.743749"
      ]
     },
     "execution_count": 105,
     "metadata": {},
     "output_type": "execute_result"
    }
   ],
   "source": [
    "rs = train_val(y_train, y_train_pred, y_test, y_pred, \"ridge\") # train_val fonksiyonua tahmin ve testleri veriyoruz\n",
    "rs"
   ]
  },
  {
   "cell_type": "code",
   "execution_count": 106,
   "id": "ee458457-c964-4f8b-b6e2-f393eb24ca38",
   "metadata": {},
   "outputs": [
    {
     "data": {
      "text/html": [
       "<div>\n",
       "<style scoped>\n",
       "    .dataframe tbody tr th:only-of-type {\n",
       "        vertical-align: middle;\n",
       "    }\n",
       "\n",
       "    .dataframe tbody tr th {\n",
       "        vertical-align: top;\n",
       "    }\n",
       "\n",
       "    .dataframe thead th {\n",
       "        text-align: right;\n",
       "    }\n",
       "</style>\n",
       "<table border=\"1\" class=\"dataframe\">\n",
       "  <thead>\n",
       "    <tr style=\"text-align: right;\">\n",
       "      <th></th>\n",
       "      <th>multi_train</th>\n",
       "      <th>multi_test</th>\n",
       "      <th>poly_train</th>\n",
       "      <th>poly_test</th>\n",
       "      <th>ridge_train</th>\n",
       "      <th>ridge_test</th>\n",
       "    </tr>\n",
       "  </thead>\n",
       "  <tbody>\n",
       "    <tr>\n",
       "      <th>R2</th>\n",
       "      <td>0.903380</td>\n",
       "      <td>0.900396</td>\n",
       "      <td>0.953385</td>\n",
       "      <td>0.947646</td>\n",
       "      <td>0.936997</td>\n",
       "      <td>0.927938</td>\n",
       "    </tr>\n",
       "    <tr>\n",
       "      <th>mae</th>\n",
       "      <td>11.427166</td>\n",
       "      <td>11.676076</td>\n",
       "      <td>6.042713</td>\n",
       "      <td>6.426362</td>\n",
       "      <td>7.652171</td>\n",
       "      <td>8.404607</td>\n",
       "    </tr>\n",
       "    <tr>\n",
       "      <th>mse</th>\n",
       "      <td>330.301688</td>\n",
       "      <td>342.600757</td>\n",
       "      <td>159.355150</td>\n",
       "      <td>180.078847</td>\n",
       "      <td>215.378640</td>\n",
       "      <td>247.865625</td>\n",
       "    </tr>\n",
       "    <tr>\n",
       "      <th>rmse</th>\n",
       "      <td>18.174204</td>\n",
       "      <td>18.509478</td>\n",
       "      <td>12.623595</td>\n",
       "      <td>13.419346</td>\n",
       "      <td>14.675784</td>\n",
       "      <td>15.743749</td>\n",
       "    </tr>\n",
       "  </tbody>\n",
       "</table>\n",
       "</div>"
      ],
      "text/plain": [
       "      multi_train  multi_test  poly_train   poly_test  ridge_train  ridge_test\n",
       "R2       0.903380    0.900396    0.953385    0.947646     0.936997    0.927938\n",
       "mae     11.427166   11.676076    6.042713    6.426362     7.652171    8.404607\n",
       "mse    330.301688  342.600757  159.355150  180.078847   215.378640  247.865625\n",
       "rmse    18.174204   18.509478   12.623595   13.419346    14.675784   15.743749"
      ]
     },
     "execution_count": 106,
     "metadata": {},
     "output_type": "execute_result"
    }
   ],
   "source": [
    "result_2 = pd.concat([result, rs], axis=1)\n",
    "result_2"
   ]
  },
  {
   "cell_type": "code",
   "execution_count": 107,
   "id": "46438074-9631-4cf3-aec7-a086be1f5e9b",
   "metadata": {
    "ExecuteTime": {
     "end_time": "2023-05-02T05:42:32.190794Z",
     "start_time": "2023-05-02T05:42:32.176755Z"
    }
   },
   "outputs": [],
   "source": [
    "from sklearn.linear_model import Lasso, LassoCV"
   ]
  },
  {
   "cell_type": "code",
   "execution_count": 108,
   "id": "324f12c4-0bbe-469c-a728-51109f94e914",
   "metadata": {
    "ExecuteTime": {
     "end_time": "2023-05-02T05:42:32.206385Z",
     "start_time": "2023-05-02T05:42:32.192784Z"
    }
   },
   "outputs": [
    {
     "data": {
      "text/plain": [
       "Lasso(alpha=1, random_state=42)"
      ]
     },
     "execution_count": 108,
     "metadata": {},
     "output_type": "execute_result"
    }
   ],
   "source": [
    "lasso_model = Lasso(alpha = 1, random_state = 42)\n",
    "lasso_model.fit(X_train_scaled, y_train)"
   ]
  },
  {
   "cell_type": "code",
   "execution_count": 109,
   "id": "d2358662-8f7f-4c69-a58b-e94d7bc28370",
   "metadata": {
    "ExecuteTime": {
     "end_time": "2023-05-02T05:42:32.221920Z",
     "start_time": "2023-05-02T05:42:32.207400Z"
    }
   },
   "outputs": [],
   "source": [
    "y_pred = lasso_model.predict(X_test_scaled)\n",
    "y_train_pred = lasso_model.predict(X_train_scaled)"
   ]
  },
  {
   "cell_type": "code",
   "execution_count": 110,
   "id": "bf610c5d-48b8-4b8d-b7bb-b8fbf8e8dd43",
   "metadata": {
    "ExecuteTime": {
     "end_time": "2023-05-02T05:42:32.237244Z",
     "start_time": "2023-05-02T05:42:32.222927Z"
    }
   },
   "outputs": [
    {
     "data": {
      "text/html": [
       "<div>\n",
       "<style scoped>\n",
       "    .dataframe tbody tr th:only-of-type {\n",
       "        vertical-align: middle;\n",
       "    }\n",
       "\n",
       "    .dataframe tbody tr th {\n",
       "        vertical-align: top;\n",
       "    }\n",
       "\n",
       "    .dataframe thead th {\n",
       "        text-align: right;\n",
       "    }\n",
       "</style>\n",
       "<table border=\"1\" class=\"dataframe\">\n",
       "  <thead>\n",
       "    <tr style=\"text-align: right;\">\n",
       "      <th></th>\n",
       "      <th>lasso_train</th>\n",
       "      <th>lasso_test</th>\n",
       "    </tr>\n",
       "  </thead>\n",
       "  <tbody>\n",
       "    <tr>\n",
       "      <th>R2</th>\n",
       "      <td>0.908211</td>\n",
       "      <td>0.903149</td>\n",
       "    </tr>\n",
       "    <tr>\n",
       "      <th>mae</th>\n",
       "      <td>11.471661</td>\n",
       "      <td>11.815889</td>\n",
       "    </tr>\n",
       "    <tr>\n",
       "      <th>mse</th>\n",
       "      <td>313.786812</td>\n",
       "      <td>333.132733</td>\n",
       "    </tr>\n",
       "    <tr>\n",
       "      <th>rmse</th>\n",
       "      <td>17.714029</td>\n",
       "      <td>18.251924</td>\n",
       "    </tr>\n",
       "  </tbody>\n",
       "</table>\n",
       "</div>"
      ],
      "text/plain": [
       "      lasso_train  lasso_test\n",
       "R2       0.908211    0.903149\n",
       "mae     11.471661   11.815889\n",
       "mse    313.786812  333.132733\n",
       "rmse    17.714029   18.251924"
      ]
     },
     "execution_count": 110,
     "metadata": {},
     "output_type": "execute_result"
    }
   ],
   "source": [
    "lss = train_val(y_train, y_train_pred, y_test, y_pred, \"lasso\")\n",
    "lss"
   ]
  },
  {
   "cell_type": "code",
   "execution_count": 111,
   "id": "e5e9bc2e-9dfe-4b5d-aaf6-6fd0508d4551",
   "metadata": {},
   "outputs": [
    {
     "data": {
      "text/plain": [
       "array([  0.        ,   0.        ,   0.        , -31.55638666,\n",
       "         0.        ,   0.        ,   0.        ,   0.        ,\n",
       "         0.        ,  15.41126594,  -0.        ,   0.        ,\n",
       "         0.        ,  -0.        ,   0.        ,   0.        ,\n",
       "         0.        ,   0.        ,   0.        ,   0.        ,\n",
       "         0.        ,   0.        ,   3.90259382,  -0.        ,\n",
       "         0.        ,   0.        ,   0.        ,   0.        ,\n",
       "         0.        ,  -0.        ,  -0.        ,   0.        ,\n",
       "        -0.        ,   0.        ,   0.        ,   0.        ,\n",
       "         4.32641728,   0.        ,   0.        ,   0.        ,\n",
       "         0.        ,   0.        ,   0.        ,  -0.        ,\n",
       "         0.        ,   0.        ,   0.        ,   0.        ,\n",
       "         0.        ,  -0.        ,   0.        ,   0.        ,\n",
       "         0.        ,  -0.        ,   0.        ,   0.        ,\n",
       "         0.        ,   0.        ,   0.        ,  -0.        ,\n",
       "         0.        ,   3.53742748,  -0.        ,   0.        ,\n",
       "        -0.        ,   0.        ,   0.        ,  -0.        ,\n",
       "         0.43177847])"
      ]
     },
     "execution_count": 111,
     "metadata": {},
     "output_type": "execute_result"
    }
   ],
   "source": [
    "lasso_model.coef_  # Lasso modelinin katsayılarını alın"
   ]
  },
  {
   "cell_type": "code",
   "execution_count": 112,
   "id": "93f87b30-0c9f-46f3-b8dd-1b72945bc466",
   "metadata": {},
   "outputs": [],
   "source": [
    "nonzero_features = np.count_nonzero(lasso_model.coef_) "
   ]
  },
  {
   "cell_type": "code",
   "execution_count": 113,
   "id": "200995b1-c735-4ad2-b989-c2f66e3dd86b",
   "metadata": {},
   "outputs": [
    {
     "data": {
      "text/plain": [
       "6"
      ]
     },
     "execution_count": 113,
     "metadata": {},
     "output_type": "execute_result"
    }
   ],
   "source": [
    "nonzero_features"
   ]
  },
  {
   "cell_type": "code",
   "execution_count": 114,
   "id": "2f352458-fa43-4894-b7f1-6cb790bed107",
   "metadata": {},
   "outputs": [
    {
     "data": {
      "text/plain": [
       "array([ 23.53473428,  21.81177982,  36.25291809, -48.15273428,\n",
       "         9.39307922, -20.15183773, -11.79747111,  -8.44492693,\n",
       "        22.84914613,  21.2414396 , -45.89679452, -46.50500418,\n",
       "         1.95549588,  24.56310834,  11.56138468,  -8.88385905,\n",
       "        11.4720219 ,   2.99571656,  -2.67187074, -29.493438  ,\n",
       "       -25.92919119, -55.00731808,  32.57263267, -18.88823925,\n",
       "        18.03713269,  28.127431  , -10.13832476, -18.82012788,\n",
       "        35.17502176,  13.39583867, -61.73947536,  28.46289379,\n",
       "       -44.73051695,  41.32117708, -30.79311154,  -8.82004599,\n",
       "        66.1051035 , -15.66256156,   2.90007861,   2.8575353 ,\n",
       "       -13.17019181,  42.10532967,  14.22162041,   6.11491563,\n",
       "        -1.01654173, -10.0296938 ,  -6.06762709, -32.36687191,\n",
       "       -13.02702283,   1.04328498, -11.22597825, -12.41801011,\n",
       "        12.9786839 ,  10.68898143, -26.69883855,  14.5411835 ,\n",
       "        -7.14864989,  12.55756406,  31.16072789,   9.71332932,\n",
       "        -2.45418754,  22.74877625, -16.18768069,  40.42328897,\n",
       "        75.14917694, -57.57968339,   1.14865078,  25.90298166,\n",
       "       -55.11753146])"
      ]
     },
     "execution_count": 114,
     "metadata": {},
     "output_type": "execute_result"
    }
   ],
   "source": [
    "ridge_model.coef_"
   ]
  },
  {
   "cell_type": "code",
   "execution_count": null,
   "id": "5f9c84f7-3ea1-4c56-b93f-3e39e6984605",
   "metadata": {},
   "outputs": [],
   "source": []
  }
 ],
 "metadata": {
  "hide_input": false,
  "kernelspec": {
   "display_name": "Python 3 (ipykernel)",
   "language": "python",
   "name": "python3"
  },
  "language_info": {
   "codemirror_mode": {
    "name": "ipython",
    "version": 3
   },
   "file_extension": ".py",
   "mimetype": "text/x-python",
   "name": "python",
   "nbconvert_exporter": "python",
   "pygments_lexer": "ipython3",
   "version": "3.9.13"
  },
  "nbTranslate": {
   "displayLangs": [
    "*"
   ],
   "hotkey": "alt-t",
   "langInMainMenu": true,
   "sourceLang": "en",
   "targetLang": "fr",
   "useGoogleTranslate": true
  },
  "toc": {
   "base_numbering": 1,
   "nav_menu": {},
   "number_sections": true,
   "sideBar": true,
   "skip_h1_title": false,
   "title_cell": "Table of Contents",
   "title_sidebar": "Contents",
   "toc_cell": false,
   "toc_position": {},
   "toc_section_display": true,
   "toc_window_display": false
  }
 },
 "nbformat": 4,
 "nbformat_minor": 5
}
